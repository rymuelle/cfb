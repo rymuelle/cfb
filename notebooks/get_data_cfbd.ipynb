{
 "cells": [
  {
   "cell_type": "code",
   "execution_count": null,
   "metadata": {},
   "outputs": [],
   "source": [
    "import cfbd\n",
    "from cfbd.rest import ApiException\n",
    "import pandas as pd\n",
    "import sys\n",
    "import os\n",
    "import numpy as np\n",
    "import time\n",
    "sys.path.insert(1, '..')\n",
    "from cfb_api_key import api_key"
   ]
  },
  {
   "cell_type": "code",
   "execution_count": null,
   "metadata": {},
   "outputs": [],
   "source": [
    "# Configure API key authorization: ApiKeyAuth\n",
    "configuration = cfbd.Configuration()\n",
    "configuration.api_key['Authorization'] = api_key\n",
    "configuration.api_key_prefix['Authorization'] = 'Bearer'"
   ]
  },
  {
   "cell_type": "markdown",
   "metadata": {},
   "source": [
    "https://github.com/CFBD/cfbd-python\n",
    "https://github.com/CFBD/cfbd-python/blob/master/docs/GamesApi.md#get_games\n",
    "https://api.collegefootballdata.com/api/docs/?url=/api-docs.json#/games/getGames"
   ]
  },
  {
   "cell_type": "code",
   "execution_count": null,
   "metadata": {},
   "outputs": [],
   "source": [
    "# create an instance of the API class\n",
    "api_instance = cfbd.GamesApi(cfbd.ApiClient(configuration))"
   ]
  },
  {
   "cell_type": "code",
   "execution_count": null,
   "metadata": {},
   "outputs": [],
   "source": [
    "def get_games_season(api_instance,season):\n",
    "    games = api_instance.get_games(season, season_type='regular')\n",
    "    games+=api_instance.get_games(season, season_type='postseason')\n",
    "    games = [game.to_dict() for game in games]\n",
    "    return games"
   ]
  },
  {
   "cell_type": "code",
   "execution_count": null,
   "metadata": {},
   "outputs": [],
   "source": [
    "games  = []\n",
    "start_s = 1869\n",
    "end_s   = 2020\n",
    "for season in np.linspace(start_s,end_s,end_s-start_s+1,dtype=int):\n",
    "    season = int(season)\n",
    "    print(season)\n",
    "    games+=get_games_season(api_instance,season)"
   ]
  },
  {
   "cell_type": "code",
   "execution_count": null,
   "metadata": {},
   "outputs": [],
   "source": [
    "games_df = pd.DataFrame(games)"
   ]
  },
  {
   "cell_type": "code",
   "execution_count": null,
   "metadata": {},
   "outputs": [],
   "source": [
    "games_df.to_csv('../data/cfbd/games_{}_to_{}.csv'.format(start_s,end_s))"
   ]
  },
  {
   "cell_type": "code",
   "execution_count": null,
   "metadata": {},
   "outputs": [],
   "source": []
  }
 ],
 "metadata": {
  "kernelspec": {
   "display_name": "Python 3",
   "language": "python",
   "name": "python3"
  },
  "language_info": {
   "codemirror_mode": {
    "name": "ipython",
    "version": 3
   },
   "file_extension": ".py",
   "mimetype": "text/x-python",
   "name": "python",
   "nbconvert_exporter": "python",
   "pygments_lexer": "ipython3",
   "version": "3.8.5"
  }
 },
 "nbformat": 4,
 "nbformat_minor": 4
}
