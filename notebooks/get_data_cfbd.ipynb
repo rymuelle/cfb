{
 "cells": [
  {
   "cell_type": "code",
   "execution_count": 38,
   "metadata": {},
   "outputs": [],
   "source": [
    "import cfbd\n",
    "from cfbd.rest import ApiException\n",
    "import pandas as pd\n",
    "import sys\n",
    "import os\n",
    "import numpy as np"
   ]
  },
  {
   "cell_type": "markdown",
   "metadata": {},
   "source": [
    "https://github.com/CFBD/cfbd-python\n",
    "https://github.com/CFBD/cfbd-python/blob/master/docs/GamesApi.md#get_games\n",
    "https://api.collegefootballdata.com/api/docs/?url=/api-docs.json#/games/getGames"
   ]
  },
  {
   "cell_type": "code",
   "execution_count": 15,
   "metadata": {},
   "outputs": [],
   "source": [
    "api_instance = cfbd.GamesApi()"
   ]
  },
  {
   "cell_type": "code",
   "execution_count": 42,
   "metadata": {},
   "outputs": [],
   "source": [
    "def get_games_season(api_instance,season):\n",
    "    games = api_instance.get_games(season, season_type='regular')\n",
    "    games+=api_instance.get_games(season, season_type='postseason')\n",
    "    games = [game.to_dict() for game in games]\n",
    "    return games"
   ]
  },
  {
   "cell_type": "code",
   "execution_count": 53,
   "metadata": {},
   "outputs": [],
   "source": [
    "games  = []\n",
    "start_s = 1990\n",
    "end_s   = 2020\n",
    "for season in np.linspace(start_s,end_s,end_s-start_s+1,dtype=int):\n",
    "    season = int(season)\n",
    "    games+=get_games_season(api_instance,season)\n"
   ]
  },
  {
   "cell_type": "code",
   "execution_count": 54,
   "metadata": {},
   "outputs": [],
   "source": [
    "games_df = pd.DataFrame(games)"
   ]
  },
  {
   "cell_type": "code",
   "execution_count": 55,
   "metadata": {},
   "outputs": [],
   "source": [
    "games_df.to_csv('../data/cfbd/games_{}_to_{}.csv'.format(start_s,end_s))"
   ]
  },
  {
   "cell_type": "code",
   "execution_count": null,
   "metadata": {},
   "outputs": [],
   "source": []
  }
 ],
 "metadata": {
  "kernelspec": {
   "display_name": "myCfbVenv",
   "language": "python",
   "name": "mycfbvenv"
  }
 },
 "nbformat": 4,
 "nbformat_minor": 4
}
