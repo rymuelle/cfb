{
 "cells": [
  {
   "cell_type": "code",
   "execution_count": 1,
   "metadata": {},
   "outputs": [],
   "source": [
    "import sys\n",
    "import os\n",
    "sys.path.append(\"../src/whole_history_rating\")\n",
    "from whr import whole_history_rating\n",
    "from whr import utils"
   ]
  },
  {
   "cell_type": "code",
   "execution_count": 2,
   "metadata": {},
   "outputs": [],
   "source": [
    "whr = whole_history_rating.Base()"
   ]
  },
  {
   "cell_type": "markdown",
   "metadata": {},
   "source": [
    "Base.create_game() arguments: black player name, white player name, winner, day number, handicap\n",
    "Handicap should generally be less than 500 elo"
   ]
  },
  {
   "cell_type": "code",
   "execution_count": 3,
   "metadata": {},
   "outputs": [
    {
     "data": {
      "text/plain": [
       "<whr.game.Game at 0x7fe9e530f850>"
      ]
     },
     "execution_count": 3,
     "metadata": {},
     "output_type": "execute_result"
    }
   ],
   "source": [
    "whr.create_game(\"shusaku\", \"shusai\", \"B\", 1, 0)\n",
    "whr.create_game(\"shusaku\", \"shusai\", \"W\", 2, 0)\n",
    "whr.create_game(\"shusaku\", \"shusai\", \"W\", 3, 0)"
   ]
  },
  {
   "cell_type": "markdown",
   "metadata": {},
   "source": [
    "Iterate the WHR algorithm towards convergence with more players/games, more iterations are needed."
   ]
  },
  {
   "cell_type": "code",
   "execution_count": 4,
   "metadata": {},
   "outputs": [],
   "source": [
    "whr.iterate(50)"
   ]
  },
  {
   "cell_type": "markdown",
   "metadata": {},
   "source": [
    "Or let the module iterate until the elo is stable (precision by default 10E-3) with a time limit of 10 seconds by default"
   ]
  },
  {
   "cell_type": "code",
   "execution_count": 5,
   "metadata": {},
   "outputs": [
    {
     "data": {
      "text/plain": [
       "(20, True)"
      ]
     },
     "execution_count": 5,
     "metadata": {},
     "output_type": "execute_result"
    }
   ],
   "source": [
    "whr.auto_iterate(time_limit = 10, precision = 10E-3)"
   ]
  },
  {
   "cell_type": "markdown",
   "metadata": {},
   "source": [
    "Results are stored in one triplet for each game: [day_number, elo_rating, uncertainty]"
   ]
  },
  {
   "cell_type": "code",
   "execution_count": 6,
   "metadata": {},
   "outputs": [
    {
     "data": {
      "text/plain": [
       "[[1, -43, 84], [2, -45, 84], [3, -45, 84]]"
      ]
     },
     "execution_count": 6,
     "metadata": {},
     "output_type": "execute_result"
    }
   ],
   "source": [
    "whr.ratings_for_player(\"shusaku\")"
   ]
  },
  {
   "cell_type": "code",
   "execution_count": 7,
   "metadata": {},
   "outputs": [
    {
     "data": {
      "text/plain": [
       "[[1, 43, 84], [2, 45, 84], [3, 45, 84]]"
      ]
     },
     "execution_count": 7,
     "metadata": {},
     "output_type": "execute_result"
    }
   ],
   "source": [
    "whr.ratings_for_player(\"shusai\")"
   ]
  },
  {
   "cell_type": "markdown",
   "metadata": {},
   "source": [
    "You can print or get all ratings ordered"
   ]
  },
  {
   "cell_type": "code",
   "execution_count": 8,
   "metadata": {},
   "outputs": [
    {
     "name": "stdout",
     "output_type": "stream",
     "text": [
      "shusaku => [-43.390360981506454, -44.6796862679066, -45.32285311497122]\n",
      "shusai => [43.39036098150646, 44.67968626790661, 45.322853114971224]\n"
     ]
    },
    {
     "data": {
      "text/plain": [
       "[('shusaku', [-43.390360981506454, -44.6796862679066, -45.32285311497122]),\n",
       " ('shusai', [43.39036098150646, 44.67968626790661, 45.322853114971224])]"
      ]
     },
     "execution_count": 8,
     "metadata": {},
     "output_type": "execute_result"
    }
   ],
   "source": [
    "whr.print_ordered_ratings(current=False) # current to True to only get the last rank estimation\n",
    "whr.get_ordered_ratings(current=False, compact=False) # compact to True to not have the name before each ranks"
   ]
  },
  {
   "cell_type": "markdown",
   "metadata": {},
   "source": [
    "You can get a prediction for a future game between two players (even non existing players)\n",
    "Base.probability_future_match() arguments: black player name, white player name, handicap"
   ]
  },
  {
   "cell_type": "code",
   "execution_count": 9,
   "metadata": {},
   "outputs": [
    {
     "name": "stdout",
     "output_type": "stream",
     "text": [
      "win probability: shusaku:0.37%; shusai:0.63%\n"
     ]
    },
    {
     "data": {
      "text/plain": [
       "(0.3724317501643667, 0.6275682498356332)"
      ]
     },
     "execution_count": 9,
     "metadata": {},
     "output_type": "execute_result"
    }
   ],
   "source": [
    "whr.probability_future_match(\"shusaku\", \"shusai\",0)"
   ]
  },
  {
   "cell_type": "markdown",
   "metadata": {},
   "source": [
    "You can load several games all together using a file or a list of string representing the game\n",
    "all elements in list must be like: \"black_name white_name winner time_step handicap extras\" \n",
    "you can exclude handicap (default=0) and extras (default={})"
   ]
  },
  {
   "cell_type": "code",
   "execution_count": 10,
   "metadata": {},
   "outputs": [],
   "source": [
    "whr.load_games([\"shusaku shusai B 1 0\", \"shusaku shusai W 2\", \"shusaku shusai W 3 0\"])\n",
    "whr.load_games([\"firstname1 name1, firstname2 name2, W, 1\"], separator=\",\")"
   ]
  },
  {
   "cell_type": "markdown",
   "metadata": {},
   "source": [
    "You can save and load a base (you don't have to redo all iterations)"
   ]
  },
  {
   "cell_type": "code",
   "execution_count": 11,
   "metadata": {},
   "outputs": [],
   "source": [
    "path='test_whr_ratings.pkl'\n",
    "whr.save_base(path)\n",
    "whr2 = whole_history_rating.Base.load_base(path)"
   ]
  },
  {
   "cell_type": "markdown",
   "metadata": {},
   "source": [
    "change w2 param"
   ]
  },
  {
   "cell_type": "code",
   "execution_count": 12,
   "metadata": {},
   "outputs": [],
   "source": [
    "whr = whole_history_rating.Base({'w2':14})"
   ]
  },
  {
   "cell_type": "markdown",
   "metadata": {},
   "source": [
    "make names not case sensative"
   ]
  },
  {
   "cell_type": "code",
   "execution_count": 13,
   "metadata": {},
   "outputs": [],
   "source": [
    "whr = whole_history_rating.Base({'uncased':True})"
   ]
  }
 ],
 "metadata": {
  "kernelspec": {
   "display_name": "myCfbVenv",
   "language": "python",
   "name": "mycfbvenv"
  },
  "language_info": {
   "codemirror_mode": {
    "name": "ipython",
    "version": 3
   },
   "file_extension": ".py",
   "mimetype": "text/x-python",
   "name": "python",
   "nbconvert_exporter": "python",
   "pygments_lexer": "ipython3",
   "version": "3.8.5"
  }
 },
 "nbformat": 4,
 "nbformat_minor": 4
}
