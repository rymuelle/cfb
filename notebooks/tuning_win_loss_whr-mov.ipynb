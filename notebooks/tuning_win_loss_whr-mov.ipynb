{
 "cells": [
  {
   "cell_type": "code",
   "execution_count": 1,
   "metadata": {},
   "outputs": [],
   "source": [
    "import sys\n",
    "import os\n",
    "sys.path.append(\"../src/whole_history_rating\")\n",
    "from whr import whole_history_rating\n",
    "from whr import utils\n",
    "from datetime import datetime\n",
    "import datetime as dt\n",
    "import pandas as pd\n",
    "import numpy as np\n",
    "import time\n",
    "import matplotlib.pyplot as plt\n",
    "from IPython.display import display, clear_output\n",
    "\n",
    "from scipy.optimize import curve_fit"
   ]
  },
  {
   "cell_type": "code",
   "execution_count": 2,
   "metadata": {},
   "outputs": [],
   "source": [
    "data_path = '../data/cfbd/games_1990_to_2020.csv'"
   ]
  },
  {
   "cell_type": "code",
   "execution_count": 3,
   "metadata": {},
   "outputs": [
    {
     "name": "stderr",
     "output_type": "stream",
     "text": [
      "<ipython-input-3-9b0ebddc986f>:3: UserWarning: Boolean Series key will be reindexed to match DataFrame index.\n",
      "  games_df_test = games_df_test[games_df.season>2010]\n"
     ]
    },
    {
     "data": {
      "text/plain": [
       "(23256, 25)"
      ]
     },
     "execution_count": 3,
     "metadata": {},
     "output_type": "execute_result"
    }
   ],
   "source": [
    "games_df = pd.read_csv(data_path)\n",
    "games_df_test = games_df[games_df.season<2015]\n",
    "games_df_test = games_df_test[games_df.season>2010]\n",
    "games_df_verify = games_df[games_df.season>=2015]\n",
    "games_df.shape"
   ]
  },
  {
   "cell_type": "code",
   "execution_count": 4,
   "metadata": {},
   "outputs": [],
   "source": [
    "datetime_from_cfbd = lambda x: datetime.strptime(x,\"%Y-%m-%dT%H:%M:%S.%fZ\")\n",
    "mean_and_error = lambda x: (np.mean(x), np.std(x)/(len(x) ** 2))\n",
    "abs_mean_and_error = lambda x: (np.mean(np.abs(x)), np.std(x)/(len(x) ** 2))\n",
    "abeError = lambda x: mean_and_error(np.abs(x))\n",
    "date_from_cfbd = lambda x: datetime_from_cfbd(x).strftime('%Y-%m-%d')"
   ]
  },
  {
   "cell_type": "code",
   "execution_count": 5,
   "metadata": {},
   "outputs": [],
   "source": [
    "def get_dates_df(df):\n",
    "    date_dict = {}\n",
    "    dates = df.start_date.to_numpy()\n",
    "    dates_string = list(map(date_from_cfbd,dates))\n",
    "    dates_string_list = []\n",
    "    for date,date_string in zip(dates,dates_string):\n",
    "        if date_string not in date_dict: \n",
    "            date_dict[date_string] = []\n",
    "            dates_string_list.append(date_string)\n",
    "            date_dict[date_string].append(date)\n",
    "    return date_dict,dates_string_list"
   ]
  },
  {
   "cell_type": "code",
   "execution_count": 6,
   "metadata": {},
   "outputs": [],
   "source": [
    "def make_preditiction(whr,date):\n",
    "    at,ht,_,_,_,handicap = date\n",
    "    away_rating, away_unc = whr.ratings_for_player(at,current=True)\n",
    "    home_rating, home_unc = whr.ratings_for_player(ht,current=True)\n",
    "    if away_rating and home_rating:\n",
    "        return home_rating-away_rating+handicap, (away_unc ** 2 + home_unc **2 ) ** .5\n",
    "    return None"
   ]
  },
  {
   "cell_type": "code",
   "execution_count": 7,
   "metadata": {},
   "outputs": [],
   "source": [
    "def make_preditictions(whr,date_list):\n",
    "    pred_list = []\n",
    "    for at,ht,_,_,_,handicap in date_list:\n",
    "        away_rating, away_unc = whr.ratings_for_player(at,current=True)\n",
    "        home_rating, home_unc = whr.ratings_for_player(ht,current=True)\n",
    "        if away_rating and home_rating:\n",
    "            pred_list.append(home_rating-away_rating+handicap)\n",
    "        else:\n",
    "            pred_list.append(None)\n",
    "    return pred_list"
   ]
  },
  {
   "cell_type": "code",
   "execution_count": 8,
   "metadata": {},
   "outputs": [],
   "source": [
    "def compare_spread_prediction(whr, date_list):\n",
    "    pred_list = []\n",
    "    for date in date_list:\n",
    "        _,_,ap,hp,dd,_ = date\n",
    "        spread = hp-ap\n",
    "        prediction = make_preditiction(whr,date)\n",
    "        if not prediction==None:\n",
    "            pred_list.append([spread,*prediction ,dd])\n",
    "    return pred_list"
   ]
  },
  {
   "cell_type": "code",
   "execution_count": 9,
   "metadata": {},
   "outputs": [],
   "source": [
    "def score_predictions(predictions, max_unc=100):\n",
    "    abe_list = []\n",
    "    correct_list = []\n",
    "    for spread,pred,unc,_ in predictions:\n",
    "        if unc > max_unc: continue\n",
    "        abe_list.append(abs(spread-pred))\n",
    "        correct_list.append(spread*pred>0)\n",
    "    return mean_and_error(correct_list), abs_mean_and_error(abe_list)"
   ]
  },
  {
   "cell_type": "code",
   "execution_count": 10,
   "metadata": {},
   "outputs": [],
   "source": [
    "def iterate_by_day(df,whr,handicap=2.5, time_offset=10, max_day_delta = 300,start_season=2020, max_pred=-1):\n",
    "    \n",
    "    df['date'] = df.start_date.apply(date_from_cfbd)\n",
    "    date_list = np.unique(df['date'].to_numpy())\n",
    "    first_date =  datetime.strptime(date_list[0],\"%Y-%m-%d\")\n",
    "\n",
    "    day_delta = 0\n",
    "    prediction_list = []\n",
    "    for current_date in date_list:\n",
    "        #after_offset =  day_delta > time_offset\n",
    "        current_datetime = datetime.strptime(current_date,'%Y-%m-%d')\n",
    "        after_offset = dt.date(year=current_datetime.year,month=current_datetime.month,day=1) >= dt.date(year=start_season,month=3,day=1)\n",
    "       \n",
    "        #before day\n",
    "        if after_offset: \n",
    "            whr.auto_iterate(time_limit = 20, precision = 10E-4)\n",
    "            \n",
    "        #middle day\n",
    "        day_delta = (current_datetime-first_date).days\n",
    "        games_day = df[df.date==current_date]\n",
    "        date_list = games_day[['away_team','home_team','away_points','home_points', 'neutral_site']].values.tolist()\n",
    "        date_list = [[at,ht,ap,hp,day_delta,handicap*(1-ns)] for at,ht,ap,hp,ns in date_list]\n",
    "        if after_offset:\n",
    "            current_pred = compare_spread_prediction(whr, date_list)\n",
    "            prediction_list+=current_pred\n",
    "            #print(current_datetime, len(date_list),len(current_pred), score_predictions(current_pred))\n",
    "            #print(\"\\t\\t\\t\",score_predictions(prediction_list))\n",
    "        if max_pred > 0 and len(prediction_list) > max_pred: return prediction_list\n",
    "        for game in date_list:\n",
    "            whr.create_game(*game)\n",
    "        #if max_day_delta> 0 and max_day_delta < day_delta: return prediction_list\n",
    "    return prediction_list\n",
    "        #end day"
   ]
  },
  {
   "cell_type": "code",
   "execution_count": 11,
   "metadata": {},
   "outputs": [],
   "source": [
    "def benchmark_w2(df, default_w2,w2_short_term, verbose=False, time_offset=10, max_day_delta=-1,popt=[],start_season=2020, max_pred=-1):\n",
    "    n_games = games_df_test.shape[0]\n",
    "    n_iter_games = 0\n",
    "    n_pred_games = 0\n",
    "    correct_prediction_list = []\n",
    "    delta_mov_list = []\n",
    "    pred_list = []\n",
    "    mov_list = []\n",
    "    \n",
    "    scale = 16\n",
    "    mov_SF = 16/scale\n",
    "    whr = whole_history_rating.Base({'scale': scale,'w2':default_w2,'w2_short_term':w2_short_term, 'debug':False})\n",
    "    start_time = 0\n",
    "    home_team_handicap = 2.5/13*scale\n",
    "    current_day,day_delta=0,0\n",
    "    \n",
    "    pred_list = iterate_by_day(df,whr,start_season=start_season,max_pred=max_pred)\n",
    "\n",
    "    return pred_list\n"
   ]
  },
  {
   "cell_type": "code",
   "execution_count": 20,
   "metadata": {
    "scrolled": true
   },
   "outputs": [
    {
     "name": "stdout",
     "output_type": "stream",
     "text": [
      "w2 value: 10.0 w2 short: 1.2589254117941673 w2 power: 1.0 w2 short power: 0.1\n"
     ]
    },
    {
     "name": "stderr",
     "output_type": "stream",
     "text": [
      "<ipython-input-10-864aaeca9286>:3: SettingWithCopyWarning: \n",
      "A value is trying to be set on a copy of a slice from a DataFrame.\n",
      "Try using .loc[row_indexer,col_indexer] = value instead\n",
      "\n",
      "See the caveats in the documentation: https://pandas.pydata.org/pandas-docs/stable/user_guide/indexing.html#returning-a-view-versus-a-copy\n",
      "  df['date'] = df.start_date.apply(date_from_cfbd)\n"
     ]
    },
    {
     "name": "stdout",
     "output_type": "stream",
     "text": [
      "147\n",
      "76.87% corr, abe: 16.04\n",
      "48.01 seconds elapsed\n",
      "w2 value: 10.0 w2 short: 10.0 w2 power: 1.0 w2 short power: 1.0\n",
      "147\n",
      "76.87% corr, abe: 16.17\n",
      "95.95 seconds elapsed\n",
      "w2 value: 16.68100537200059 w2 short: 1.2589254117941673 w2 power: 1.2222222222222223 w2 short power: 0.1\n",
      "144\n",
      "77.08% corr, abe: 16.15\n",
      "141.41 seconds elapsed\n",
      "w2 value: 16.68100537200059 w2 short: 10.0 w2 power: 1.2222222222222223 w2 short power: 1.0\n",
      "143\n",
      "76.92% corr, abe: 15.88\n",
      "186.34 seconds elapsed\n",
      "w2 value: 27.825594022071243 w2 short: 1.2589254117941673 w2 power: 1.4444444444444444 w2 short power: 0.1\n",
      "141\n",
      "78.72% corr, abe: 15.29\n",
      "231.37 seconds elapsed\n",
      "w2 value: 27.825594022071243 w2 short: 10.0 w2 power: 1.4444444444444444 w2 short power: 1.0\n",
      "141\n",
      "78.01% corr, abe: 15.25\n",
      "275.47 seconds elapsed\n",
      "w2 value: 46.41588833612777 w2 short: 1.2589254117941673 w2 power: 1.6666666666666665 w2 short power: 0.1\n",
      "140\n",
      "80.71% corr, abe: 15.53\n",
      "319.90 seconds elapsed\n",
      "w2 value: 46.41588833612777 w2 short: 10.0 w2 power: 1.6666666666666665 w2 short power: 1.0\n",
      "140\n",
      "80.71% corr, abe: 15.57\n",
      "364.72 seconds elapsed\n",
      "w2 value: 77.4263682681127 w2 short: 1.2589254117941673 w2 power: 1.8888888888888888 w2 short power: 0.1\n",
      "145\n",
      "80.00% corr, abe: 15.82\n",
      "409.26 seconds elapsed\n",
      "w2 value: 77.4263682681127 w2 short: 10.0 w2 power: 1.8888888888888888 w2 short power: 1.0\n",
      "145\n",
      "80.00% corr, abe: 15.82\n",
      "454.79 seconds elapsed\n",
      "w2 value: 129.1549665014884 w2 short: 1.2589254117941673 w2 power: 2.111111111111111 w2 short power: 0.1\n"
     ]
    },
    {
     "ename": "ZeroDivisionError",
     "evalue": "float division by zero",
     "output_type": "error",
     "traceback": [
      "\u001b[0;31m---------------------------------------------------------------------------\u001b[0m",
      "\u001b[0;31mZeroDivisionError\u001b[0m                         Traceback (most recent call last)",
      "\u001b[0;32m<ipython-input-20-4f0443dc2b1a>\u001b[0m in \u001b[0;36m<module>\u001b[0;34m\u001b[0m\n\u001b[1;32m     18\u001b[0m     \u001b[0;32mfor\u001b[0m \u001b[0mw2_short_term\u001b[0m\u001b[0;34m,\u001b[0m\u001b[0mw2_power_short_term\u001b[0m \u001b[0;32min\u001b[0m \u001b[0mzip\u001b[0m\u001b[0;34m(\u001b[0m\u001b[0mlog_space_short_term\u001b[0m\u001b[0;34m,\u001b[0m\u001b[0mlin_space_short_term\u001b[0m\u001b[0;34m)\u001b[0m\u001b[0;34m:\u001b[0m\u001b[0;34m\u001b[0m\u001b[0;34m\u001b[0m\u001b[0m\n\u001b[1;32m     19\u001b[0m         \u001b[0mprint\u001b[0m\u001b[0;34m(\u001b[0m\u001b[0;34m\"w2 value: {} w2 short: {} w2 power: {} w2 short power: {}\"\u001b[0m\u001b[0;34m.\u001b[0m\u001b[0mformat\u001b[0m\u001b[0;34m(\u001b[0m\u001b[0mw2\u001b[0m\u001b[0;34m,\u001b[0m\u001b[0mw2_short_term\u001b[0m\u001b[0;34m,\u001b[0m \u001b[0mw2_power\u001b[0m\u001b[0;34m,\u001b[0m\u001b[0mw2_power_short_term\u001b[0m\u001b[0;34m)\u001b[0m\u001b[0;34m)\u001b[0m\u001b[0;34m\u001b[0m\u001b[0;34m\u001b[0m\u001b[0m\n\u001b[0;32m---> 20\u001b[0;31m         \u001b[0mpredictions\u001b[0m \u001b[0;34m=\u001b[0m \u001b[0mbenchmark_w2\u001b[0m\u001b[0;34m(\u001b[0m\u001b[0mgames_df_verify\u001b[0m\u001b[0;34m,\u001b[0m\u001b[0mw2\u001b[0m\u001b[0;34m,\u001b[0m\u001b[0mw2_short_term\u001b[0m\u001b[0;34m,\u001b[0m \u001b[0mstart_season\u001b[0m\u001b[0;34m=\u001b[0m\u001b[0;36m2017\u001b[0m\u001b[0;34m,\u001b[0m\u001b[0mmax_pred\u001b[0m\u001b[0;34m=\u001b[0m\u001b[0;36m100\u001b[0m\u001b[0;34m)\u001b[0m\u001b[0;34m\u001b[0m\u001b[0;34m\u001b[0m\u001b[0m\n\u001b[0m\u001b[1;32m     21\u001b[0m         \u001b[0mprint\u001b[0m\u001b[0;34m(\u001b[0m\u001b[0mlen\u001b[0m\u001b[0;34m(\u001b[0m\u001b[0mpredictions\u001b[0m\u001b[0;34m)\u001b[0m\u001b[0;34m)\u001b[0m\u001b[0;34m\u001b[0m\u001b[0;34m\u001b[0m\u001b[0m\n\u001b[1;32m     22\u001b[0m         \u001b[0;34m(\u001b[0m\u001b[0mcorrect\u001b[0m\u001b[0;34m,\u001b[0m \u001b[0mcorrect_err\u001b[0m\u001b[0;34m)\u001b[0m\u001b[0;34m,\u001b[0m\u001b[0;34m(\u001b[0m\u001b[0mabe\u001b[0m\u001b[0;34m,\u001b[0m\u001b[0mabe_err\u001b[0m\u001b[0;34m)\u001b[0m \u001b[0;34m=\u001b[0m \u001b[0mscore_predictions\u001b[0m\u001b[0;34m(\u001b[0m\u001b[0mpredictions\u001b[0m\u001b[0;34m)\u001b[0m\u001b[0;34m\u001b[0m\u001b[0;34m\u001b[0m\u001b[0m\n",
      "\u001b[0;32m<ipython-input-11-e87d6516a75c>\u001b[0m in \u001b[0;36mbenchmark_w2\u001b[0;34m(df, default_w2, w2_short_term, verbose, time_offset, max_day_delta, popt, start_season, max_pred)\u001b[0m\n\u001b[1;32m     15\u001b[0m     \u001b[0mcurrent_day\u001b[0m\u001b[0;34m,\u001b[0m\u001b[0mday_delta\u001b[0m\u001b[0;34m=\u001b[0m\u001b[0;36m0\u001b[0m\u001b[0;34m,\u001b[0m\u001b[0;36m0\u001b[0m\u001b[0;34m\u001b[0m\u001b[0;34m\u001b[0m\u001b[0m\n\u001b[1;32m     16\u001b[0m \u001b[0;34m\u001b[0m\u001b[0m\n\u001b[0;32m---> 17\u001b[0;31m     \u001b[0mpred_list\u001b[0m \u001b[0;34m=\u001b[0m \u001b[0miterate_by_day\u001b[0m\u001b[0;34m(\u001b[0m\u001b[0mdf\u001b[0m\u001b[0;34m,\u001b[0m\u001b[0mwhr\u001b[0m\u001b[0;34m,\u001b[0m\u001b[0mstart_season\u001b[0m\u001b[0;34m=\u001b[0m\u001b[0mstart_season\u001b[0m\u001b[0;34m,\u001b[0m\u001b[0mmax_pred\u001b[0m\u001b[0;34m=\u001b[0m\u001b[0mmax_pred\u001b[0m\u001b[0;34m)\u001b[0m\u001b[0;34m\u001b[0m\u001b[0;34m\u001b[0m\u001b[0m\n\u001b[0m\u001b[1;32m     18\u001b[0m \u001b[0;34m\u001b[0m\u001b[0m\n\u001b[1;32m     19\u001b[0m     \u001b[0;32mreturn\u001b[0m \u001b[0mpred_list\u001b[0m\u001b[0;34m\u001b[0m\u001b[0;34m\u001b[0m\u001b[0m\n",
      "\u001b[0;32m<ipython-input-10-864aaeca9286>\u001b[0m in \u001b[0;36miterate_by_day\u001b[0;34m(df, whr, handicap, time_offset, max_day_delta, start_season, max_pred)\u001b[0m\n\u001b[1;32m     14\u001b[0m         \u001b[0;31m#before day\u001b[0m\u001b[0;34m\u001b[0m\u001b[0;34m\u001b[0m\u001b[0;34m\u001b[0m\u001b[0m\n\u001b[1;32m     15\u001b[0m         \u001b[0;32mif\u001b[0m \u001b[0mafter_offset\u001b[0m\u001b[0;34m:\u001b[0m\u001b[0;34m\u001b[0m\u001b[0;34m\u001b[0m\u001b[0m\n\u001b[0;32m---> 16\u001b[0;31m             \u001b[0mwhr\u001b[0m\u001b[0;34m.\u001b[0m\u001b[0mauto_iterate\u001b[0m\u001b[0;34m(\u001b[0m\u001b[0mtime_limit\u001b[0m \u001b[0;34m=\u001b[0m \u001b[0;36m20\u001b[0m\u001b[0;34m,\u001b[0m \u001b[0mprecision\u001b[0m \u001b[0;34m=\u001b[0m \u001b[0;36m10E-4\u001b[0m\u001b[0;34m)\u001b[0m\u001b[0;34m\u001b[0m\u001b[0;34m\u001b[0m\u001b[0m\n\u001b[0m\u001b[1;32m     17\u001b[0m \u001b[0;34m\u001b[0m\u001b[0m\n\u001b[1;32m     18\u001b[0m         \u001b[0;31m#middle day\u001b[0m\u001b[0;34m\u001b[0m\u001b[0;34m\u001b[0m\u001b[0;34m\u001b[0m\u001b[0m\n",
      "\u001b[0;32m~/Develop/cfb/src/whole_history_rating/whr/whole_history_rating.py\u001b[0m in \u001b[0;36mauto_iterate\u001b[0;34m(self, time_limit, precision)\u001b[0m\n\u001b[1;32m    192\u001b[0m         \"\"\"\n\u001b[1;32m    193\u001b[0m         \u001b[0mstart\u001b[0m \u001b[0;34m=\u001b[0m \u001b[0mtime\u001b[0m\u001b[0;34m.\u001b[0m\u001b[0mtime\u001b[0m\u001b[0;34m(\u001b[0m\u001b[0;34m)\u001b[0m\u001b[0;34m\u001b[0m\u001b[0;34m\u001b[0m\u001b[0m\n\u001b[0;32m--> 194\u001b[0;31m         \u001b[0mself\u001b[0m\u001b[0;34m.\u001b[0m\u001b[0miterate\u001b[0m\u001b[0;34m(\u001b[0m\u001b[0;36m10\u001b[0m\u001b[0;34m)\u001b[0m\u001b[0;34m\u001b[0m\u001b[0;34m\u001b[0m\u001b[0m\n\u001b[0m\u001b[1;32m    195\u001b[0m         \u001b[0ma\u001b[0m \u001b[0;34m=\u001b[0m \u001b[0mself\u001b[0m\u001b[0;34m.\u001b[0m\u001b[0mget_ordered_ratings\u001b[0m\u001b[0;34m(\u001b[0m\u001b[0mcompact\u001b[0m\u001b[0;34m=\u001b[0m\u001b[0;32mTrue\u001b[0m\u001b[0;34m)\u001b[0m\u001b[0;34m\u001b[0m\u001b[0;34m\u001b[0m\u001b[0m\n\u001b[1;32m    196\u001b[0m         \u001b[0mi\u001b[0m \u001b[0;34m=\u001b[0m \u001b[0;36m10\u001b[0m\u001b[0;34m\u001b[0m\u001b[0;34m\u001b[0m\u001b[0m\n",
      "\u001b[0;32m~/Develop/cfb/src/whole_history_rating/whr/whole_history_rating.py\u001b[0m in \u001b[0;36miterate\u001b[0;34m(self, count)\u001b[0m\n\u001b[1;32m    176\u001b[0m         \"\"\"\n\u001b[1;32m    177\u001b[0m         \u001b[0;32mfor\u001b[0m \u001b[0m_\u001b[0m \u001b[0;32min\u001b[0m \u001b[0mrange\u001b[0m\u001b[0;34m(\u001b[0m\u001b[0mcount\u001b[0m\u001b[0;34m)\u001b[0m\u001b[0;34m:\u001b[0m\u001b[0;34m\u001b[0m\u001b[0;34m\u001b[0m\u001b[0m\n\u001b[0;32m--> 178\u001b[0;31m             \u001b[0mself\u001b[0m\u001b[0;34m.\u001b[0m\u001b[0m_run_one_iteration\u001b[0m\u001b[0;34m(\u001b[0m\u001b[0;34m)\u001b[0m\u001b[0;34m\u001b[0m\u001b[0;34m\u001b[0m\u001b[0m\n\u001b[0m\u001b[1;32m    179\u001b[0m         \u001b[0;32mfor\u001b[0m \u001b[0mplayer\u001b[0m \u001b[0;32min\u001b[0m \u001b[0mself\u001b[0m\u001b[0;34m.\u001b[0m\u001b[0mplayers\u001b[0m\u001b[0;34m.\u001b[0m\u001b[0mvalues\u001b[0m\u001b[0;34m(\u001b[0m\u001b[0;34m)\u001b[0m\u001b[0;34m:\u001b[0m\u001b[0;34m\u001b[0m\u001b[0;34m\u001b[0m\u001b[0m\n\u001b[1;32m    180\u001b[0m             \u001b[0mplayer\u001b[0m\u001b[0;34m.\u001b[0m\u001b[0mupdate_uncertainty\u001b[0m\u001b[0;34m(\u001b[0m\u001b[0;34m)\u001b[0m\u001b[0;34m\u001b[0m\u001b[0;34m\u001b[0m\u001b[0m\n",
      "\u001b[0;32m~/Develop/cfb/src/whole_history_rating/whr/whole_history_rating.py\u001b[0m in \u001b[0;36m_run_one_iteration\u001b[0;34m(self)\u001b[0m\n\u001b[1;32m    251\u001b[0m         \"\"\"\n\u001b[1;32m    252\u001b[0m         \u001b[0;32mfor\u001b[0m \u001b[0mplayer\u001b[0m \u001b[0;32min\u001b[0m \u001b[0mself\u001b[0m\u001b[0;34m.\u001b[0m\u001b[0mplayers\u001b[0m\u001b[0;34m.\u001b[0m\u001b[0mvalues\u001b[0m\u001b[0;34m(\u001b[0m\u001b[0;34m)\u001b[0m\u001b[0;34m:\u001b[0m\u001b[0;34m\u001b[0m\u001b[0;34m\u001b[0m\u001b[0m\n\u001b[0;32m--> 253\u001b[0;31m             \u001b[0mplayer\u001b[0m\u001b[0;34m.\u001b[0m\u001b[0mrun_one_newton_iteration\u001b[0m\u001b[0;34m(\u001b[0m\u001b[0;34m)\u001b[0m\u001b[0;34m\u001b[0m\u001b[0;34m\u001b[0m\u001b[0m\n\u001b[0m\u001b[1;32m    254\u001b[0m \u001b[0;34m\u001b[0m\u001b[0m\n\u001b[1;32m    255\u001b[0m     \u001b[0;32mdef\u001b[0m \u001b[0mload_games\u001b[0m\u001b[0;34m(\u001b[0m\u001b[0mself\u001b[0m\u001b[0;34m,\u001b[0m \u001b[0mgames\u001b[0m\u001b[0;34m,\u001b[0m \u001b[0mseparator\u001b[0m\u001b[0;34m=\u001b[0m\u001b[0;34m\" \"\u001b[0m\u001b[0;34m)\u001b[0m\u001b[0;34m:\u001b[0m\u001b[0;34m\u001b[0m\u001b[0;34m\u001b[0m\u001b[0m\n",
      "\u001b[0;32m~/Develop/cfb/src/whole_history_rating/whr/player.py\u001b[0m in \u001b[0;36mrun_one_newton_iteration\u001b[0;34m(self)\u001b[0m\n\u001b[1;32m     85\u001b[0m             \u001b[0mself\u001b[0m\u001b[0;34m.\u001b[0m\u001b[0mdays\u001b[0m\u001b[0;34m[\u001b[0m\u001b[0;36m0\u001b[0m\u001b[0;34m]\u001b[0m\u001b[0;34m.\u001b[0m\u001b[0mupdate_by_1d_newtons_method\u001b[0m\u001b[0;34m(\u001b[0m\u001b[0;34m)\u001b[0m\u001b[0;34m\u001b[0m\u001b[0;34m\u001b[0m\u001b[0m\n\u001b[1;32m     86\u001b[0m         \u001b[0;32melif\u001b[0m \u001b[0mlen\u001b[0m\u001b[0;34m(\u001b[0m\u001b[0mself\u001b[0m\u001b[0;34m.\u001b[0m\u001b[0mdays\u001b[0m\u001b[0;34m)\u001b[0m \u001b[0;34m>\u001b[0m \u001b[0;36m1\u001b[0m\u001b[0;34m:\u001b[0m\u001b[0;34m\u001b[0m\u001b[0;34m\u001b[0m\u001b[0m\n\u001b[0;32m---> 87\u001b[0;31m             \u001b[0mself\u001b[0m\u001b[0;34m.\u001b[0m\u001b[0mupdate_by_ndim_newton\u001b[0m\u001b[0;34m(\u001b[0m\u001b[0;34m)\u001b[0m\u001b[0;34m\u001b[0m\u001b[0;34m\u001b[0m\u001b[0m\n\u001b[0m\u001b[1;32m     88\u001b[0m \u001b[0;34m\u001b[0m\u001b[0m\n\u001b[1;32m     89\u001b[0m     \u001b[0;32mdef\u001b[0m \u001b[0mcompute_sigma2\u001b[0m\u001b[0;34m(\u001b[0m\u001b[0mself\u001b[0m\u001b[0;34m)\u001b[0m\u001b[0;34m:\u001b[0m\u001b[0;34m\u001b[0m\u001b[0;34m\u001b[0m\u001b[0m\n",
      "\u001b[0;32m~/Develop/cfb/src/whole_history_rating/whr/player.py\u001b[0m in \u001b[0;36mupdate_by_ndim_newton\u001b[0;34m(self)\u001b[0m\n\u001b[1;32m    102\u001b[0m         \u001b[0msigma2\u001b[0m \u001b[0;34m=\u001b[0m \u001b[0mself\u001b[0m\u001b[0;34m.\u001b[0m\u001b[0mcompute_sigma2\u001b[0m\u001b[0;34m(\u001b[0m\u001b[0;34m)\u001b[0m\u001b[0;34m\u001b[0m\u001b[0;34m\u001b[0m\u001b[0m\n\u001b[1;32m    103\u001b[0m \u001b[0;34m\u001b[0m\u001b[0m\n\u001b[0;32m--> 104\u001b[0;31m         \u001b[0mdiag\u001b[0m\u001b[0;34m,\u001b[0m \u001b[0msub_diag\u001b[0m \u001b[0;34m=\u001b[0m \u001b[0mPlayer\u001b[0m\u001b[0;34m.\u001b[0m\u001b[0mhessian\u001b[0m\u001b[0;34m(\u001b[0m\u001b[0mself\u001b[0m\u001b[0;34m.\u001b[0m\u001b[0mdays\u001b[0m\u001b[0;34m,\u001b[0m \u001b[0msigma2\u001b[0m\u001b[0;34m)\u001b[0m\u001b[0;34m\u001b[0m\u001b[0;34m\u001b[0m\u001b[0m\n\u001b[0m\u001b[1;32m    105\u001b[0m \u001b[0;34m\u001b[0m\u001b[0m\n\u001b[1;32m    106\u001b[0m         \u001b[0mg\u001b[0m \u001b[0;34m=\u001b[0m \u001b[0mself\u001b[0m\u001b[0;34m.\u001b[0m\u001b[0mgradient\u001b[0m\u001b[0;34m(\u001b[0m\u001b[0mr\u001b[0m\u001b[0;34m,\u001b[0m \u001b[0mself\u001b[0m\u001b[0;34m.\u001b[0m\u001b[0mdays\u001b[0m\u001b[0;34m,\u001b[0m \u001b[0msigma2\u001b[0m\u001b[0;34m)\u001b[0m\u001b[0;34m\u001b[0m\u001b[0;34m\u001b[0m\u001b[0m\n",
      "\u001b[0;32m~/Develop/cfb/src/whole_history_rating/whr/player.py\u001b[0m in \u001b[0;36mhessian\u001b[0;34m(days, sigma2)\u001b[0m\n\u001b[1;32m     60\u001b[0m             \u001b[0;32mif\u001b[0m \u001b[0mrow\u001b[0m \u001b[0;34m>\u001b[0m \u001b[0;36m0\u001b[0m\u001b[0;34m:\u001b[0m\u001b[0;34m\u001b[0m\u001b[0;34m\u001b[0m\u001b[0m\n\u001b[1;32m     61\u001b[0m                 \u001b[0mprior\u001b[0m \u001b[0;34m+=\u001b[0m \u001b[0;34m-\u001b[0m\u001b[0;36m1\u001b[0m \u001b[0;34m/\u001b[0m \u001b[0msigma2\u001b[0m\u001b[0;34m[\u001b[0m\u001b[0mrow\u001b[0m \u001b[0;34m-\u001b[0m \u001b[0;36m1\u001b[0m\u001b[0;34m]\u001b[0m\u001b[0;34m\u001b[0m\u001b[0;34m\u001b[0m\u001b[0m\n\u001b[0;32m---> 62\u001b[0;31m             \u001b[0mdiagonal\u001b[0m\u001b[0;34m[\u001b[0m\u001b[0mrow\u001b[0m\u001b[0;34m]\u001b[0m \u001b[0;34m=\u001b[0m \u001b[0mdays\u001b[0m\u001b[0;34m[\u001b[0m\u001b[0mrow\u001b[0m\u001b[0;34m]\u001b[0m\u001b[0;34m.\u001b[0m\u001b[0mlog_likelihood_second_derivative\u001b[0m\u001b[0;34m(\u001b[0m\u001b[0;34m)\u001b[0m \u001b[0;34m+\u001b[0m \u001b[0mprior\u001b[0m \u001b[0;34m-\u001b[0m \u001b[0;36m0.001\u001b[0m\u001b[0;34m\u001b[0m\u001b[0;34m\u001b[0m\u001b[0m\n\u001b[0m\u001b[1;32m     63\u001b[0m         \u001b[0;32mfor\u001b[0m \u001b[0mi\u001b[0m \u001b[0;32min\u001b[0m \u001b[0mrange\u001b[0m\u001b[0;34m(\u001b[0m\u001b[0mn\u001b[0m \u001b[0;34m-\u001b[0m \u001b[0;36m1\u001b[0m\u001b[0;34m)\u001b[0m\u001b[0;34m:\u001b[0m\u001b[0;34m\u001b[0m\u001b[0;34m\u001b[0m\u001b[0m\n\u001b[1;32m     64\u001b[0m             \u001b[0msub_diagonal\u001b[0m\u001b[0;34m[\u001b[0m\u001b[0mi\u001b[0m\u001b[0;34m]\u001b[0m \u001b[0;34m=\u001b[0m \u001b[0;36m1\u001b[0m \u001b[0;34m/\u001b[0m \u001b[0msigma2\u001b[0m\u001b[0;34m[\u001b[0m\u001b[0mi\u001b[0m\u001b[0;34m]\u001b[0m\u001b[0;34m\u001b[0m\u001b[0;34m\u001b[0m\u001b[0m\n",
      "\u001b[0;32m~/Develop/cfb/src/whole_history_rating/whr/playerday.py\u001b[0m in \u001b[0;36mlog_likelihood_second_derivative\u001b[0;34m(self)\u001b[0m\n\u001b[1;32m     49\u001b[0m         \u001b[0mresult\u001b[0m \u001b[0;34m=\u001b[0m \u001b[0;36m0.0\u001b[0m\u001b[0;34m\u001b[0m\u001b[0;34m\u001b[0m\u001b[0m\n\u001b[1;32m     50\u001b[0m         \u001b[0;32mfor\u001b[0m \u001b[0ma\u001b[0m\u001b[0;34m,\u001b[0m \u001b[0mb\u001b[0m\u001b[0;34m,\u001b[0m \u001b[0mc\u001b[0m\u001b[0;34m,\u001b[0m \u001b[0md\u001b[0m \u001b[0;32min\u001b[0m \u001b[0mself\u001b[0m\u001b[0;34m.\u001b[0m\u001b[0mmov_game_terms\u001b[0m\u001b[0;34m(\u001b[0m\u001b[0;34m)\u001b[0m\u001b[0;34m:\u001b[0m\u001b[0;34m\u001b[0m\u001b[0;34m\u001b[0m\u001b[0m\n\u001b[0;32m---> 51\u001b[0;31m             \u001b[0mresult\u001b[0m \u001b[0;34m+=\u001b[0m  \u001b[0;34m(\u001b[0m\u001b[0ma\u001b[0m \u001b[0;34m*\u001b[0m \u001b[0mb\u001b[0m\u001b[0;34m)\u001b[0m \u001b[0;34m/\u001b[0m \u001b[0;34m(\u001b[0m\u001b[0;34m(\u001b[0m\u001b[0ma\u001b[0m \u001b[0;34m*\u001b[0m \u001b[0mself\u001b[0m\u001b[0;34m.\u001b[0m\u001b[0mgamma\u001b[0m\u001b[0;34m(\u001b[0m\u001b[0;34m)\u001b[0m \u001b[0;34m+\u001b[0m \u001b[0mb\u001b[0m\u001b[0;34m)\u001b[0m \u001b[0;34m**\u001b[0m \u001b[0;36m2.0\u001b[0m\u001b[0;34m)\u001b[0m\u001b[0;34m\u001b[0m\u001b[0;34m\u001b[0m\u001b[0m\n\u001b[0m\u001b[1;32m     52\u001b[0m             \u001b[0mresult\u001b[0m \u001b[0;34m-=\u001b[0m \u001b[0;34m(\u001b[0m\u001b[0mc\u001b[0m \u001b[0;34m*\u001b[0m \u001b[0md\u001b[0m\u001b[0;34m)\u001b[0m \u001b[0;34m/\u001b[0m \u001b[0;34m(\u001b[0m\u001b[0;34m(\u001b[0m\u001b[0mc\u001b[0m \u001b[0;34m*\u001b[0m \u001b[0mself\u001b[0m\u001b[0;34m.\u001b[0m\u001b[0mgamma\u001b[0m\u001b[0;34m(\u001b[0m\u001b[0;34m)\u001b[0m \u001b[0;34m+\u001b[0m \u001b[0md\u001b[0m\u001b[0;34m)\u001b[0m \u001b[0;34m**\u001b[0m \u001b[0;36m2.0\u001b[0m\u001b[0;34m)\u001b[0m\u001b[0;34m\u001b[0m\u001b[0;34m\u001b[0m\u001b[0m\n\u001b[1;32m     53\u001b[0m         \u001b[0;32mreturn\u001b[0m \u001b[0mself\u001b[0m\u001b[0;34m.\u001b[0m\u001b[0mgamma\u001b[0m\u001b[0;34m(\u001b[0m\u001b[0;34m)\u001b[0m \u001b[0;34m*\u001b[0m \u001b[0mresult\u001b[0m \u001b[0;31m#/ (self.scale ** 2)\u001b[0m\u001b[0;34m\u001b[0m\u001b[0;34m\u001b[0m\u001b[0m\n",
      "\u001b[0;31mZeroDivisionError\u001b[0m: float division by zero"
     ]
    }
   ],
   "source": [
    "start = time.perf_counter()\n",
    "w2_list = []\n",
    "per_corr_list = []\n",
    "per_corr_unc_list = []\n",
    "abe_list = []\n",
    "abe_unc_list = []\n",
    "mov_list_list = []\n",
    "pred_mov_list_list = []\n",
    "log_min, log_max = 1, 3\n",
    "log_space = np.logspace(log_min, log_max,10)\n",
    "lin_space = np.linspace(log_min, log_max,10)\n",
    "\n",
    "log_min_short_term, log_max_short_term = .1, 1.\n",
    "log_space_short_term = np.logspace(log_min_short_term, log_max_short_term,2)\n",
    "lin_space_short_term = np.linspace(log_min_short_term, log_max_short_term,2)\n",
    "\n",
    "for w2,w2_power in zip(log_space,lin_space):\n",
    "    for w2_short_term,w2_power_short_term in zip(log_space_short_term,lin_space_short_term):\n",
    "        print(\"w2 value: {} w2 short: {} w2 power: {} w2 short power: {}\".format(w2,w2_short_term, w2_power,w2_power_short_term))\n",
    "        predictions = benchmark_w2(games_df_verify,w2,w2_short_term, start_season=2017,max_pred=100)\n",
    "        print(len(predictions))\n",
    "        (correct, correct_err),(abe,abe_err) = score_predictions(predictions)\n",
    "\n",
    "        w2_list.append([w2,w2_short_term])\n",
    "        .append(correct)\n",
    "        per_corr_unc_list.append(correct_err)\n",
    "        abe_list.append(abe)\n",
    "        abe_unc_list.append(abe_err)\n",
    "        mid_time = time.perf_counter()\n",
    "        print(\"{:.2f}% corr, abe: {:.2f}\".format(correct*100,abe))\n",
    "        print(\"{:.2f} seconds elapsed\".format(mid_time-start))\n",
    "end = time.perf_counter()\n",
    "end-start"
   ]
  },
  {
   "cell_type": "code",
   "execution_count": 22,
   "metadata": {},
   "outputs": [
    {
     "data": {
      "text/plain": [
       "[([10.0, 1.2589254117941673], 0.7687074829931972, 16.037414965986393),\n",
       " ([10.0, 10.0], 0.7687074829931972, 16.166666666666668),\n",
       " ([16.68100537200059, 1.2589254117941673],\n",
       "  0.7708333333333334,\n",
       "  16.15277777777778),\n",
       " ([16.68100537200059, 10.0], 0.7692307692307693, 15.884615384615385),\n",
       " ([27.825594022071243, 1.2589254117941673],\n",
       "  0.7872340425531915,\n",
       "  15.294326241134751),\n",
       " ([27.825594022071243, 10.0], 0.7801418439716312, 15.25177304964539),\n",
       " ([46.41588833612777, 1.2589254117941673], 0.8071428571428572, 15.525),\n",
       " ([46.41588833612777, 10.0], 0.8071428571428572, 15.567857142857143),\n",
       " ([77.4263682681127, 1.2589254117941673], 0.8, 15.824137931034484),\n",
       " ([77.4263682681127, 10.0], 0.8, 15.824137931034484)]"
      ]
     },
     "execution_count": 22,
     "metadata": {},
     "output_type": "execute_result"
    }
   ],
   "source": [
    "list(zip(w2_list,per_corr_list,abe_list))"
   ]
  },
  {
   "cell_type": "code",
   "execution_count": 14,
   "metadata": {},
   "outputs": [
    {
     "data": {
      "text/plain": [
       "[(10.0, 1.0),\n",
       " (16.68100537200059, 1.2222222222222223),\n",
       " (27.825594022071243, 1.4444444444444444),\n",
       " (46.41588833612777, 1.6666666666666665),\n",
       " (77.4263682681127, 1.8888888888888888),\n",
       " (129.1549665014884, 2.111111111111111),\n",
       " (215.44346900318823, 2.333333333333333),\n",
       " (359.38136638046257, 2.5555555555555554),\n",
       " (599.4842503189409, 2.7777777777777777),\n",
       " (1000.0, 3.0)]"
      ]
     },
     "execution_count": 14,
     "metadata": {},
     "output_type": "execute_result"
    }
   ],
   "source": [
    "log_min, log_max = 1, 3\n",
    "log_space = np.logspace(log_min, log_max,10)\n",
    "lin_space = np.linspace(log_min, log_max,10)\n",
    "list(zip(log_space,lin_space))"
   ]
  },
  {
   "cell_type": "code",
   "execution_count": 49,
   "metadata": {},
   "outputs": [
    {
     "data": {
      "text/plain": [
       "((0.732824427480916, 2.578432411533063e-05),\n",
       " (16.904580152671755, 0.000694304073101533))"
      ]
     },
     "execution_count": 49,
     "metadata": {},
     "output_type": "execute_result"
    }
   ],
   "source": [
    "(correct, correct_err),(abe,abe_err)"
   ]
  },
  {
   "cell_type": "code",
   "execution_count": 50,
   "metadata": {},
   "outputs": [
    {
     "data": {
      "image/png": "[encoded data removed]",
      "text/plain": [
       "<Figure size 432x288 with 1 Axes>"
      ]
     },
     "metadata": {
      "needs_background": "light"
     },
     "output_type": "display_data"
    }
   ],
   "source": [
    "plt.errorbar(w2_list,abe_list,yerr=abe_unc_list)\n",
    "plt.ylabel(\"absolute error\")\n",
    "plt.xlabel(\"w2\")\n",
    "plt.savefig(\"non_linear_prior_mov_abe_v_w2_{}_to_{}.png\".format(log_min, log_max))"
   ]
  },
  {
   "cell_type": "code",
   "execution_count": 28,
   "metadata": {},
   "outputs": [
    {
     "data": {
      "image/png": "[encoded data removed]",
      "text/plain": [
       "<Figure size 432x288 with 1 Axes>"
      ]
     },
     "metadata": {
      "needs_background": "light"
     },
     "output_type": "display_data"
    }
   ],
   "source": [
    "plt.errorbar(w2_list,per_corr_list,yerr=per_corr_unc_list)\n",
    "plt.ylabel(\"% correct\")\n",
    "plt.xlabel(\"w2\")\n",
    "plt.savefig(\"non_linear_prior_mov_percent_corr_v_w2_{}_to_{}.png\".format(log_min, log_max))"
   ]
  },
  {
   "cell_type": "code",
   "execution_count": 29,
   "metadata": {},
   "outputs": [],
   "source": [
    "def linear_func(x,m,b):\n",
    "    return m * x + b"
   ]
  },
  {
   "cell_type": "code",
   "execution_count": 30,
   "metadata": {},
   "outputs": [
    {
     "data": {
      "text/plain": [
       "(array([0.60567186, 6.17108478]),\n",
       " array([[ 0.00426033, -0.01391522],\n",
       "        [-0.01391522,  1.39810632]]))"
      ]
     },
     "execution_count": 30,
     "metadata": {},
     "output_type": "execute_result"
    }
   ],
   "source": [
    "spreads,preds,_,_ = zip(*predictions)\n",
    "x,y = preds,spreads\n",
    "popt,pcov = curve_fit(linear_func,x,y)\n",
    "popt, pcov"
   ]
  },
  {
   "cell_type": "code",
   "execution_count": 33,
   "metadata": {},
   "outputs": [
    {
     "data": {
      "text/plain": [
       "13.227272727272727"
      ]
     },
     "execution_count": 33,
     "metadata": {},
     "output_type": "execute_result"
    }
   ],
   "source": [
    "np.mean(np.abs(np.subtract(x,y)))"
   ]
  },
  {
   "cell_type": "code",
   "execution_count": 31,
   "metadata": {},
   "outputs": [
    {
     "data": {
      "text/plain": [
       "[<matplotlib.lines.Line2D at 0x7fbbfaeaf7f0>]"
      ]
     },
     "execution_count": 31,
     "metadata": {},
     "output_type": "execute_result"
    },
    {
     "data": {
      "image/png": "[encoded data removed]",
      "text/plain": [
       "<Figure size 432x288 with 1 Axes>"
      ]
     },
     "metadata": {
      "needs_background": "light"
     },
     "output_type": "display_data"
    }
   ],
   "source": [
    "x_space = np.linspace(np.min(x), np.max(x),100)\n",
    "y_pred = linear_func(x_space,*popt)\n",
    "plt.scatter(x,y)\n",
    "plt.plot(x_space,y_pred)"
   ]
  }
 ],
 "metadata": {
  "kernelspec": {
   "display_name": "myCfbVenv",
   "language": "python",
   "name": "mycfbvenv"
  },
  "language_info": {
   "codemirror_mode": {
    "name": "ipython",
    "version": 3
   },
   "file_extension": ".py",
   "mimetype": "text/x-python",
   "name": "python",
   "nbconvert_exporter": "python",
   "pygments_lexer": "ipython3",
   "version": "3.8.5"
  }
 },
 "nbformat": 4,
 "nbformat_minor": 4
}
