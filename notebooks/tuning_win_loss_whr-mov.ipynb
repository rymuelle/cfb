{
 "cells": [
  {
   "cell_type": "code",
   "execution_count": 1,
   "metadata": {},
   "outputs": [],
   "source": [
    "import sys\n",
    "import os\n",
    "sys.path.append(\"../src/whole_history_rating\")\n",
    "from whr import whole_history_rating\n",
    "from whr import utils\n",
    "from datetime import datetime\n",
    "import datetime as dt\n",
    "import pandas as pd\n",
    "import numpy as np\n",
    "import time\n",
    "import matplotlib.pyplot as plt\n",
    "from IPython.display import display, clear_output\n",
    "\n",
    "from scipy.optimize import curve_fit"
   ]
  },
  {
   "cell_type": "code",
   "execution_count": 2,
   "metadata": {},
   "outputs": [],
   "source": [
    "data_path = '../data/cfbd/games_1990_to_2020.csv'"
   ]
  },
  {
   "cell_type": "code",
   "execution_count": 3,
   "metadata": {},
   "outputs": [
    {
     "data": {
      "text/plain": [
       "(23256, 25)"
      ]
     },
     "execution_count": 3,
     "metadata": {},
     "output_type": "execute_result"
    }
   ],
   "source": [
    "games_df = pd.read_csv(data_path)\n",
    "games_df_test = games_df[games_df.season<2015]\n",
    "games_df_verify = games_df[games_df.season>=2015]\n",
    "games_df.shape"
   ]
  },
  {
   "cell_type": "code",
   "execution_count": 288,
   "metadata": {},
   "outputs": [],
   "source": [
    "datetime_from_cfbd = lambda x: datetime.strptime(x,\"%Y-%m-%dT%H:%M:%S.%fZ\")\n",
    "mean_and_error = lambda x: (np.mean(x), np.std(x)/(len(x) ** 2))\n",
    "abs_mean_and_error = lambda x: (np.mean(np.abs(x)), np.std(x)/(len(x) ** 2))\n",
    "abeError = lambda x: mean_and_error(np.abs(x))\n",
    "date_from_cfbd = lambda x: datetime_from_cfbd(x).strftime('%Y-%m-%d')"
   ]
  },
  {
   "cell_type": "code",
   "execution_count": 99,
   "metadata": {},
   "outputs": [],
   "source": [
    "def get_dates_df(df):\n",
    "    date_dict = {}\n",
    "    dates = df.start_date.to_numpy()\n",
    "    dates_string = list(map(date_from_cfbd,dates))\n",
    "    dates_string_list = []\n",
    "    for date,date_string in zip(dates,dates_string):\n",
    "        if date_string not in date_dict: \n",
    "            date_dict[date_string] = []\n",
    "            dates_string_list.append(date_string)\n",
    "            date_dict[date_string].append(date)\n",
    "    return date_dict,dates_string_list"
   ]
  },
  {
   "cell_type": "code",
   "execution_count": 187,
   "metadata": {},
   "outputs": [],
   "source": [
    "def make_preditiction(whr,date):\n",
    "    at,ht,_,_,_,handicap = date\n",
    "    away_rating, away_unc = whr.ratings_for_player(at,current=True)\n",
    "    home_rating, home_unc = whr.ratings_for_player(ht,current=True)\n",
    "    if away_rating and home_rating:\n",
    "        return home_rating-away_rating+handicap, (away_unc ** 2 + home_unc **2 ) ** .5\n",
    "    return None"
   ]
  },
  {
   "cell_type": "code",
   "execution_count": null,
   "metadata": {},
   "outputs": [],
   "source": [
    "def make_preditictions(whr,date_list):\n",
    "    pred_list = []\n",
    "    for at,ht,_,_,_,handicap in date_list:\n",
    "        away_rating, away_unc = whr.ratings_for_player(at,current=True)\n",
    "        home_rating, home_unc = whr.ratings_for_player(ht,current=True)\n",
    "        if away_rating and home_rating:\n",
    "            pred_list.append(home_rating-away_rating+handicap)\n",
    "        else:\n",
    "            pred_list.append(None)\n",
    "    return pred_list"
   ]
  },
  {
   "cell_type": "code",
   "execution_count": 264,
   "metadata": {},
   "outputs": [],
   "source": [
    "def compare_spread_prediction(whr, date_list):\n",
    "    pred_list = []\n",
    "    for date in date_list:\n",
    "        _,_,ap,hp,dd,_ = date\n",
    "        spread = hp-ap\n",
    "        prediction = make_preditiction(whr,date)\n",
    "        if not prediction==None:\n",
    "            pred_list.append([spread,*prediction ,dd])\n",
    "    return pred_list"
   ]
  },
  {
   "cell_type": "code",
   "execution_count": 291,
   "metadata": {},
   "outputs": [],
   "source": [
    "def score_predictions(predictions):\n",
    "    abe_list = []\n",
    "    correct_list = []\n",
    "    for spread,pred,_,_ in predictions:\n",
    "        abe_list.append(abs(spread-pred))\n",
    "        correct_list.append(spread*pred>0)\n",
    "    return mean_and_error(correct_list), abs_mean_and_error(abe_list)"
   ]
  },
  {
   "cell_type": "code",
   "execution_count": 283,
   "metadata": {},
   "outputs": [],
   "source": [
    "def iterate_by_day(df,whr,handicap=2.5, time_offset=10, max_day_delta = 300):\n",
    "    date_dict,dates_string_list = get_dates_df(df)\n",
    "    first_date = datetime_from_cfbd(date_dict[dates_string_list[0]][0])\n",
    "    day_delta = 0\n",
    "    prediction_list = []\n",
    "    for dates in dates_string_list:\n",
    "        after_offset =  day_delta > time_offset\n",
    "        #before day\n",
    "        if after_offset: \n",
    "            whr.auto_iterate(time_limit = 10, precision = 10E-3)\n",
    "        #middle day\n",
    "        date_list = []\n",
    "        for date in date_dict[dates]:\n",
    "            current_date = datetime_from_cfbd(date)\n",
    "            day_delta = (current_date-first_date).days\n",
    "\n",
    "            games_day = df[df.start_date==date]\n",
    "            games_day_list = games_day[['away_team','home_team','away_points','home_points', 'neutral_site']].values.tolist()\n",
    "            date_list+=games_day_list\n",
    "        date_list = [[at,ht,ap,hp,day_delta,handicap*(1-ns)] for at,ht,ap,hp,ns in date_list]\n",
    "\n",
    "        if after_offset:\n",
    "            prediction_list+=compare_spread_prediction(whr, date_list)\n",
    "        for game in date_list:\n",
    "            whr.create_game(*game)\n",
    "        if max_day_delta < day_delta: return prediction_list\n",
    "    return prediction_list\n",
    "        #end day"
   ]
  },
  {
   "cell_type": "code",
   "execution_count": 267,
   "metadata": {},
   "outputs": [],
   "source": [
    "def benchmark_w2(df, default_w2, verbose=False, time_offset=10, max_events=-1,popt=[]):\n",
    "    n_games = games_df_test.shape[0]\n",
    "    n_iter_games = 0\n",
    "    n_pred_games = 0\n",
    "    correct_prediction_list = []\n",
    "    delta_mov_list = []\n",
    "    pred_list = []\n",
    "    mov_list = []\n",
    "    \n",
    "    scale = 16\n",
    "    mov_SF = 16/scale\n",
    "    whr = whole_history_rating.Base({'scale': scale,'w2':default_w2, 'debug':False})\n",
    "    start_time = 0\n",
    "    home_team_handicap = 2.5/13*scale\n",
    "    current_day,day_delta=0,0\n",
    "    \n",
    "    pred_list = iterate_by_day(df,whr,time_offset=time_offset)\n",
    "\n",
    "    return pred_list\n"
   ]
  },
  {
   "cell_type": "code",
   "execution_count": 297,
   "metadata": {
    "scrolled": false
   },
   "outputs": [
    {
     "name": "stdout",
     "output_type": "stream",
     "text": [
      "w2 value: 1000.0, w2 power: 3.0\n",
      "480\n",
      "67.71% corr, abe: 14.78\n",
      "23.69 seconds elapsed\n",
      "w2 value: 1668.100537200059, w2 power: 3.2222222222222223\n",
      "483\n",
      "66.67% corr, abe: 15.10\n",
      "48.07 seconds elapsed\n",
      "w2 value: 2782.559402207126, w2 power: 3.4444444444444446\n",
      "929.3513360949172\n",
      "Oregon State\n",
      "[<whr.playerday.PlayerDay object at 0x7f1ca7d1f130>, <whr.playerday.PlayerDay object at 0x7f1ca606f190>, <whr.playerday.PlayerDay object at 0x7f1ca5908e80>, <whr.playerday.PlayerDay object at 0x7f1ca5be2730>, <whr.playerday.PlayerDay object at 0x7f1ca4e38d30>, <whr.playerday.PlayerDay object at 0x7f1ca5fd5100>]\n",
      "-7 Oregon State Montana\n",
      "26 Kansas Oregon State\n",
      "-25 Oregon State UNLV\n",
      "34 Stanford Oregon State\n",
      "24 Nebraska Oregon State\n",
      "14 Oregon State Arizona\n"
     ]
    },
    {
     "ename": "AttributeError",
     "evalue": "bad adjusted gamma",
     "output_type": "error",
     "traceback": [
      "\u001b[0;31m---------------------------------------------------------------------------\u001b[0m",
      "\u001b[0;31mAttributeError\u001b[0m                            Traceback (most recent call last)",
      "\u001b[0;32m<ipython-input-297-8e4fce118556>\u001b[0m in \u001b[0;36m<module>\u001b[0;34m\u001b[0m\n\u001b[1;32m     13\u001b[0m \u001b[0;32mfor\u001b[0m \u001b[0mw2\u001b[0m\u001b[0;34m,\u001b[0m\u001b[0mw2_power\u001b[0m \u001b[0;32min\u001b[0m \u001b[0mzip\u001b[0m\u001b[0;34m(\u001b[0m\u001b[0mlog_space\u001b[0m\u001b[0;34m,\u001b[0m\u001b[0mlin_space\u001b[0m\u001b[0;34m)\u001b[0m\u001b[0;34m:\u001b[0m\u001b[0;34m\u001b[0m\u001b[0;34m\u001b[0m\u001b[0m\n\u001b[1;32m     14\u001b[0m     \u001b[0mprint\u001b[0m\u001b[0;34m(\u001b[0m\u001b[0;34m\"w2 value: {}, w2 power: {}\"\u001b[0m\u001b[0;34m.\u001b[0m\u001b[0mformat\u001b[0m\u001b[0;34m(\u001b[0m\u001b[0mw2\u001b[0m\u001b[0;34m,\u001b[0m \u001b[0mw2_power\u001b[0m\u001b[0;34m)\u001b[0m\u001b[0;34m)\u001b[0m\u001b[0;34m\u001b[0m\u001b[0;34m\u001b[0m\u001b[0m\n\u001b[0;32m---> 15\u001b[0;31m     \u001b[0mpredictions\u001b[0m \u001b[0;34m=\u001b[0m \u001b[0mbenchmark_w2\u001b[0m\u001b[0;34m(\u001b[0m\u001b[0mgames_df\u001b[0m\u001b[0;34m,\u001b[0m\u001b[0mw2\u001b[0m\u001b[0;34m,\u001b[0m\u001b[0mtime_offset\u001b[0m\u001b[0;34m=\u001b[0m\u001b[0;36m800\u001b[0m\u001b[0;34m,\u001b[0m\u001b[0mmax_events\u001b[0m\u001b[0;34m=\u001b[0m\u001b[0;36m850\u001b[0m\u001b[0;34m)\u001b[0m\u001b[0;34m\u001b[0m\u001b[0;34m\u001b[0m\u001b[0m\n\u001b[0m\u001b[1;32m     16\u001b[0m     \u001b[0mprint\u001b[0m\u001b[0;34m(\u001b[0m\u001b[0mlen\u001b[0m\u001b[0;34m(\u001b[0m\u001b[0mpredictions\u001b[0m\u001b[0;34m)\u001b[0m\u001b[0;34m)\u001b[0m\u001b[0;34m\u001b[0m\u001b[0;34m\u001b[0m\u001b[0m\n\u001b[1;32m     17\u001b[0m     \u001b[0;34m(\u001b[0m\u001b[0mcorrect\u001b[0m\u001b[0;34m,\u001b[0m \u001b[0mcorrect_err\u001b[0m\u001b[0;34m)\u001b[0m\u001b[0;34m,\u001b[0m\u001b[0;34m(\u001b[0m\u001b[0mabe\u001b[0m\u001b[0;34m,\u001b[0m\u001b[0mabe_err\u001b[0m\u001b[0;34m)\u001b[0m \u001b[0;34m=\u001b[0m \u001b[0mscore_predictions\u001b[0m\u001b[0;34m(\u001b[0m\u001b[0mpredictions\u001b[0m\u001b[0;34m)\u001b[0m\u001b[0;34m\u001b[0m\u001b[0;34m\u001b[0m\u001b[0m\n",
      "\u001b[0;32m<ipython-input-267-f89e4b4350d7>\u001b[0m in \u001b[0;36mbenchmark_w2\u001b[0;34m(df, default_w2, verbose, time_offset, max_events, popt)\u001b[0m\n\u001b[1;32m     15\u001b[0m     \u001b[0mcurrent_day\u001b[0m\u001b[0;34m,\u001b[0m\u001b[0mday_delta\u001b[0m\u001b[0;34m=\u001b[0m\u001b[0;36m0\u001b[0m\u001b[0;34m,\u001b[0m\u001b[0;36m0\u001b[0m\u001b[0;34m\u001b[0m\u001b[0;34m\u001b[0m\u001b[0m\n\u001b[1;32m     16\u001b[0m \u001b[0;34m\u001b[0m\u001b[0m\n\u001b[0;32m---> 17\u001b[0;31m     \u001b[0mpred_list\u001b[0m \u001b[0;34m=\u001b[0m \u001b[0miterate_by_day\u001b[0m\u001b[0;34m(\u001b[0m\u001b[0mdf\u001b[0m\u001b[0;34m,\u001b[0m\u001b[0mwhr\u001b[0m\u001b[0;34m)\u001b[0m\u001b[0;34m\u001b[0m\u001b[0;34m\u001b[0m\u001b[0m\n\u001b[0m\u001b[1;32m     18\u001b[0m \u001b[0;34m\u001b[0m\u001b[0m\n\u001b[1;32m     19\u001b[0m     \u001b[0;32mreturn\u001b[0m \u001b[0mpred_list\u001b[0m\u001b[0;34m\u001b[0m\u001b[0;34m\u001b[0m\u001b[0m\n",
      "\u001b[0;32m<ipython-input-283-95cdee702e83>\u001b[0m in \u001b[0;36miterate_by_day\u001b[0;34m(df, whr, handicap, time_offset, max_day_delta)\u001b[0m\n\u001b[1;32m      8\u001b[0m         \u001b[0;31m#before day\u001b[0m\u001b[0;34m\u001b[0m\u001b[0;34m\u001b[0m\u001b[0;34m\u001b[0m\u001b[0m\n\u001b[1;32m      9\u001b[0m         \u001b[0;32mif\u001b[0m \u001b[0mafter_offset\u001b[0m\u001b[0;34m:\u001b[0m\u001b[0;34m\u001b[0m\u001b[0;34m\u001b[0m\u001b[0m\n\u001b[0;32m---> 10\u001b[0;31m             \u001b[0mwhr\u001b[0m\u001b[0;34m.\u001b[0m\u001b[0mauto_iterate\u001b[0m\u001b[0;34m(\u001b[0m\u001b[0mtime_limit\u001b[0m \u001b[0;34m=\u001b[0m \u001b[0;36m10\u001b[0m\u001b[0;34m,\u001b[0m \u001b[0mprecision\u001b[0m \u001b[0;34m=\u001b[0m \u001b[0;36m10E-3\u001b[0m\u001b[0;34m)\u001b[0m\u001b[0;34m\u001b[0m\u001b[0;34m\u001b[0m\u001b[0m\n\u001b[0m\u001b[1;32m     11\u001b[0m         \u001b[0;31m#middle day\u001b[0m\u001b[0;34m\u001b[0m\u001b[0;34m\u001b[0m\u001b[0;34m\u001b[0m\u001b[0m\n\u001b[1;32m     12\u001b[0m         \u001b[0mdate_list\u001b[0m \u001b[0;34m=\u001b[0m \u001b[0;34m[\u001b[0m\u001b[0;34m]\u001b[0m\u001b[0;34m\u001b[0m\u001b[0;34m\u001b[0m\u001b[0m\n",
      "\u001b[0;32m~/Develop/cfb/src/whole_history_rating/whr/whole_history_rating.py\u001b[0m in \u001b[0;36mauto_iterate\u001b[0;34m(self, time_limit, precision)\u001b[0m\n\u001b[1;32m    186\u001b[0m         \"\"\"\n\u001b[1;32m    187\u001b[0m         \u001b[0mstart\u001b[0m \u001b[0;34m=\u001b[0m \u001b[0mtime\u001b[0m\u001b[0;34m.\u001b[0m\u001b[0mtime\u001b[0m\u001b[0;34m(\u001b[0m\u001b[0;34m)\u001b[0m\u001b[0;34m\u001b[0m\u001b[0;34m\u001b[0m\u001b[0m\n\u001b[0;32m--> 188\u001b[0;31m         \u001b[0mself\u001b[0m\u001b[0;34m.\u001b[0m\u001b[0miterate\u001b[0m\u001b[0;34m(\u001b[0m\u001b[0;36m10\u001b[0m\u001b[0;34m)\u001b[0m\u001b[0;34m\u001b[0m\u001b[0;34m\u001b[0m\u001b[0m\n\u001b[0m\u001b[1;32m    189\u001b[0m         \u001b[0ma\u001b[0m \u001b[0;34m=\u001b[0m \u001b[0mself\u001b[0m\u001b[0;34m.\u001b[0m\u001b[0mget_ordered_ratings\u001b[0m\u001b[0;34m(\u001b[0m\u001b[0mcompact\u001b[0m\u001b[0;34m=\u001b[0m\u001b[0;32mTrue\u001b[0m\u001b[0;34m)\u001b[0m\u001b[0;34m\u001b[0m\u001b[0;34m\u001b[0m\u001b[0m\n\u001b[1;32m    190\u001b[0m         \u001b[0mi\u001b[0m \u001b[0;34m=\u001b[0m \u001b[0;36m10\u001b[0m\u001b[0;34m\u001b[0m\u001b[0;34m\u001b[0m\u001b[0m\n",
      "\u001b[0;32m~/Develop/cfb/src/whole_history_rating/whr/whole_history_rating.py\u001b[0m in \u001b[0;36miterate\u001b[0;34m(self, count)\u001b[0m\n\u001b[1;32m    170\u001b[0m         \"\"\"\n\u001b[1;32m    171\u001b[0m         \u001b[0;32mfor\u001b[0m \u001b[0m_\u001b[0m \u001b[0;32min\u001b[0m \u001b[0mrange\u001b[0m\u001b[0;34m(\u001b[0m\u001b[0mcount\u001b[0m\u001b[0;34m)\u001b[0m\u001b[0;34m:\u001b[0m\u001b[0;34m\u001b[0m\u001b[0;34m\u001b[0m\u001b[0m\n\u001b[0;32m--> 172\u001b[0;31m             \u001b[0mself\u001b[0m\u001b[0;34m.\u001b[0m\u001b[0m_run_one_iteration\u001b[0m\u001b[0;34m(\u001b[0m\u001b[0;34m)\u001b[0m\u001b[0;34m\u001b[0m\u001b[0;34m\u001b[0m\u001b[0m\n\u001b[0m\u001b[1;32m    173\u001b[0m         \u001b[0;32mfor\u001b[0m \u001b[0mplayer\u001b[0m \u001b[0;32min\u001b[0m \u001b[0mself\u001b[0m\u001b[0;34m.\u001b[0m\u001b[0mplayers\u001b[0m\u001b[0;34m.\u001b[0m\u001b[0mvalues\u001b[0m\u001b[0;34m(\u001b[0m\u001b[0;34m)\u001b[0m\u001b[0;34m:\u001b[0m\u001b[0;34m\u001b[0m\u001b[0;34m\u001b[0m\u001b[0m\n\u001b[1;32m    174\u001b[0m             \u001b[0mplayer\u001b[0m\u001b[0;34m.\u001b[0m\u001b[0mupdate_uncertainty\u001b[0m\u001b[0;34m(\u001b[0m\u001b[0;34m)\u001b[0m\u001b[0;34m\u001b[0m\u001b[0;34m\u001b[0m\u001b[0m\n",
      "\u001b[0;32m~/Develop/cfb/src/whole_history_rating/whr/whole_history_rating.py\u001b[0m in \u001b[0;36m_run_one_iteration\u001b[0;34m(self)\u001b[0m\n\u001b[1;32m    245\u001b[0m         \"\"\"\n\u001b[1;32m    246\u001b[0m         \u001b[0;32mfor\u001b[0m \u001b[0mplayer\u001b[0m \u001b[0;32min\u001b[0m \u001b[0mself\u001b[0m\u001b[0;34m.\u001b[0m\u001b[0mplayers\u001b[0m\u001b[0;34m.\u001b[0m\u001b[0mvalues\u001b[0m\u001b[0;34m(\u001b[0m\u001b[0;34m)\u001b[0m\u001b[0;34m:\u001b[0m\u001b[0;34m\u001b[0m\u001b[0;34m\u001b[0m\u001b[0m\n\u001b[0;32m--> 247\u001b[0;31m             \u001b[0mplayer\u001b[0m\u001b[0;34m.\u001b[0m\u001b[0mrun_one_newton_iteration\u001b[0m\u001b[0;34m(\u001b[0m\u001b[0;34m)\u001b[0m\u001b[0;34m\u001b[0m\u001b[0;34m\u001b[0m\u001b[0m\n\u001b[0m\u001b[1;32m    248\u001b[0m \u001b[0;34m\u001b[0m\u001b[0m\n\u001b[1;32m    249\u001b[0m     \u001b[0;32mdef\u001b[0m \u001b[0mload_games\u001b[0m\u001b[0;34m(\u001b[0m\u001b[0mself\u001b[0m\u001b[0;34m,\u001b[0m \u001b[0mgames\u001b[0m\u001b[0;34m,\u001b[0m \u001b[0mseparator\u001b[0m\u001b[0;34m=\u001b[0m\u001b[0;34m\" \"\u001b[0m\u001b[0;34m)\u001b[0m\u001b[0;34m:\u001b[0m\u001b[0;34m\u001b[0m\u001b[0;34m\u001b[0m\u001b[0m\n",
      "\u001b[0;32m~/Develop/cfb/src/whole_history_rating/whr/player.py\u001b[0m in \u001b[0;36mrun_one_newton_iteration\u001b[0;34m(self)\u001b[0m\n\u001b[1;32m     81\u001b[0m             \u001b[0mday\u001b[0m\u001b[0;34m.\u001b[0m\u001b[0mclear_game_terms_cache\u001b[0m\u001b[0;34m(\u001b[0m\u001b[0;34m)\u001b[0m\u001b[0;34m\u001b[0m\u001b[0;34m\u001b[0m\u001b[0m\n\u001b[1;32m     82\u001b[0m         \u001b[0;32mif\u001b[0m \u001b[0mlen\u001b[0m\u001b[0;34m(\u001b[0m\u001b[0mself\u001b[0m\u001b[0;34m.\u001b[0m\u001b[0mdays\u001b[0m\u001b[0;34m)\u001b[0m \u001b[0;34m==\u001b[0m \u001b[0;36m1\u001b[0m\u001b[0;34m:\u001b[0m\u001b[0;34m\u001b[0m\u001b[0;34m\u001b[0m\u001b[0m\n\u001b[0;32m---> 83\u001b[0;31m             \u001b[0mself\u001b[0m\u001b[0;34m.\u001b[0m\u001b[0mdays\u001b[0m\u001b[0;34m[\u001b[0m\u001b[0;36m0\u001b[0m\u001b[0;34m]\u001b[0m\u001b[0;34m.\u001b[0m\u001b[0mupdate_by_1d_newtons_method\u001b[0m\u001b[0;34m(\u001b[0m\u001b[0;34m)\u001b[0m\u001b[0;34m\u001b[0m\u001b[0;34m\u001b[0m\u001b[0m\n\u001b[0m\u001b[1;32m     84\u001b[0m         \u001b[0;32melif\u001b[0m \u001b[0mlen\u001b[0m\u001b[0;34m(\u001b[0m\u001b[0mself\u001b[0m\u001b[0;34m.\u001b[0m\u001b[0mdays\u001b[0m\u001b[0;34m)\u001b[0m \u001b[0;34m>\u001b[0m \u001b[0;36m1\u001b[0m\u001b[0;34m:\u001b[0m\u001b[0;34m\u001b[0m\u001b[0;34m\u001b[0m\u001b[0m\n\u001b[1;32m     85\u001b[0m             \u001b[0mself\u001b[0m\u001b[0;34m.\u001b[0m\u001b[0mupdate_by_ndim_newton\u001b[0m\u001b[0;34m(\u001b[0m\u001b[0;34m)\u001b[0m\u001b[0;34m\u001b[0m\u001b[0;34m\u001b[0m\u001b[0m\n",
      "\u001b[0;32m~/Develop/cfb/src/whole_history_rating/whr/playerday.py\u001b[0m in \u001b[0;36mupdate_by_1d_newtons_method\u001b[0;34m(self)\u001b[0m\n\u001b[1;32m     71\u001b[0m \u001b[0;34m\u001b[0m\u001b[0m\n\u001b[1;32m     72\u001b[0m     \u001b[0;32mdef\u001b[0m \u001b[0mupdate_by_1d_newtons_method\u001b[0m\u001b[0;34m(\u001b[0m\u001b[0mself\u001b[0m\u001b[0;34m)\u001b[0m\u001b[0;34m:\u001b[0m\u001b[0;34m\u001b[0m\u001b[0;34m\u001b[0m\u001b[0m\n\u001b[0;32m---> 73\u001b[0;31m         \u001b[0mdlogp\u001b[0m \u001b[0;34m=\u001b[0m \u001b[0mself\u001b[0m\u001b[0;34m.\u001b[0m\u001b[0mlog_likelihood_derivative\u001b[0m\u001b[0;34m(\u001b[0m\u001b[0;34m)\u001b[0m\u001b[0;34m\u001b[0m\u001b[0;34m\u001b[0m\u001b[0m\n\u001b[0m\u001b[1;32m     74\u001b[0m         \u001b[0md2logp\u001b[0m \u001b[0;34m=\u001b[0m \u001b[0mself\u001b[0m\u001b[0;34m.\u001b[0m\u001b[0mlog_likelihood_second_derivative\u001b[0m\u001b[0;34m(\u001b[0m\u001b[0;34m)\u001b[0m\u001b[0;34m\u001b[0m\u001b[0;34m\u001b[0m\u001b[0m\n\u001b[1;32m     75\u001b[0m         \u001b[0mdr\u001b[0m \u001b[0;34m=\u001b[0m \u001b[0mdlogp\u001b[0m \u001b[0;34m/\u001b[0m \u001b[0md2logp\u001b[0m\u001b[0;34m\u001b[0m\u001b[0;34m\u001b[0m\u001b[0m\n",
      "\u001b[0;32m~/Develop/cfb/src/whole_history_rating/whr/playerday.py\u001b[0m in \u001b[0;36mlog_likelihood_derivative\u001b[0;34m(self)\u001b[0m\n\u001b[1;32m     55\u001b[0m     \u001b[0;32mdef\u001b[0m \u001b[0mlog_likelihood_derivative\u001b[0m\u001b[0;34m(\u001b[0m\u001b[0mself\u001b[0m\u001b[0;34m)\u001b[0m\u001b[0;34m:\u001b[0m\u001b[0;34m\u001b[0m\u001b[0;34m\u001b[0m\u001b[0m\n\u001b[1;32m     56\u001b[0m         \u001b[0mtally\u001b[0m \u001b[0;34m=\u001b[0m \u001b[0;36m0.0\u001b[0m\u001b[0;34m\u001b[0m\u001b[0;34m\u001b[0m\u001b[0m\n\u001b[0;32m---> 57\u001b[0;31m         \u001b[0;32mfor\u001b[0m \u001b[0ma\u001b[0m\u001b[0;34m,\u001b[0m \u001b[0mb\u001b[0m\u001b[0;34m,\u001b[0m \u001b[0mc\u001b[0m\u001b[0;34m,\u001b[0m \u001b[0md\u001b[0m \u001b[0;32min\u001b[0m \u001b[0mself\u001b[0m\u001b[0;34m.\u001b[0m\u001b[0mmov_game_terms\u001b[0m\u001b[0;34m(\u001b[0m\u001b[0;34m)\u001b[0m\u001b[0;34m:\u001b[0m\u001b[0;34m\u001b[0m\u001b[0;34m\u001b[0m\u001b[0m\n\u001b[0m\u001b[1;32m     58\u001b[0m             \u001b[0mtally\u001b[0m \u001b[0;34m+=\u001b[0m \u001b[0ma\u001b[0m \u001b[0;34m/\u001b[0m \u001b[0;34m(\u001b[0m\u001b[0ma\u001b[0m \u001b[0;34m*\u001b[0m \u001b[0mself\u001b[0m\u001b[0;34m.\u001b[0m\u001b[0mgamma\u001b[0m\u001b[0;34m(\u001b[0m\u001b[0;34m)\u001b[0m \u001b[0;34m+\u001b[0m \u001b[0mb\u001b[0m\u001b[0;34m)\u001b[0m\u001b[0;34m\u001b[0m\u001b[0;34m\u001b[0m\u001b[0m\n\u001b[1;32m     59\u001b[0m             \u001b[0mtally\u001b[0m \u001b[0;34m-=\u001b[0m \u001b[0mc\u001b[0m \u001b[0;34m/\u001b[0m \u001b[0;34m(\u001b[0m\u001b[0mc\u001b[0m \u001b[0;34m*\u001b[0m \u001b[0mself\u001b[0m\u001b[0;34m.\u001b[0m\u001b[0mgamma\u001b[0m\u001b[0;34m(\u001b[0m\u001b[0;34m)\u001b[0m \u001b[0;34m+\u001b[0m \u001b[0md\u001b[0m\u001b[0;34m)\u001b[0m\u001b[0;34m\u001b[0m\u001b[0;34m\u001b[0m\u001b[0m\n",
      "\u001b[0;32m~/Develop/cfb/src/whole_history_rating/whr/playerday.py\u001b[0m in \u001b[0;36mmov_game_terms\u001b[0;34m(self)\u001b[0m\n\u001b[1;32m     33\u001b[0m             \u001b[0mself\u001b[0m\u001b[0;34m.\u001b[0m\u001b[0m_mov_game_terms\u001b[0m \u001b[0;34m=\u001b[0m \u001b[0;34m[\u001b[0m\u001b[0;34m]\u001b[0m\u001b[0;34m\u001b[0m\u001b[0;34m\u001b[0m\u001b[0m\n\u001b[1;32m     34\u001b[0m             \u001b[0;32mfor\u001b[0m \u001b[0mg\u001b[0m \u001b[0;32min\u001b[0m \u001b[0mself\u001b[0m\u001b[0;34m.\u001b[0m\u001b[0mmov_games\u001b[0m\u001b[0;34m:\u001b[0m\u001b[0;34m\u001b[0m\u001b[0;34m\u001b[0m\u001b[0m\n\u001b[0;32m---> 35\u001b[0;31m                 \u001b[0mother_gamma\u001b[0m \u001b[0;34m=\u001b[0m \u001b[0mg\u001b[0m\u001b[0;34m.\u001b[0m\u001b[0mopponents_adjusted_gamma\u001b[0m\u001b[0;34m(\u001b[0m\u001b[0mself\u001b[0m\u001b[0;34m.\u001b[0m\u001b[0mplayer\u001b[0m\u001b[0;34m)\u001b[0m\u001b[0;34m\u001b[0m\u001b[0;34m\u001b[0m\u001b[0m\n\u001b[0m\u001b[1;32m     36\u001b[0m                 \u001b[0;32mif\u001b[0m \u001b[0mother_gamma\u001b[0m \u001b[0;34m==\u001b[0m \u001b[0;36m0\u001b[0m \u001b[0;32mor\u001b[0m \u001b[0mother_gamma\u001b[0m \u001b[0;32mis\u001b[0m \u001b[0;32mNone\u001b[0m \u001b[0;32mor\u001b[0m \u001b[0mother_gamma\u001b[0m \u001b[0;34m>\u001b[0m \u001b[0msys\u001b[0m\u001b[0;34m.\u001b[0m\u001b[0mmaxsize\u001b[0m\u001b[0;34m:\u001b[0m\u001b[0;34m\u001b[0m\u001b[0;34m\u001b[0m\u001b[0m\n\u001b[1;32m     37\u001b[0m                     print(\n",
      "\u001b[0;32m~/Develop/cfb/src/whole_history_rating/whr/game.py\u001b[0m in \u001b[0;36mopponents_adjusted_gamma\u001b[0;34m(self, player)\u001b[0m\n\u001b[1;32m     50\u001b[0m                 \u001b[0;32mfor\u001b[0m \u001b[0mgame\u001b[0m \u001b[0;32min\u001b[0m \u001b[0mday\u001b[0m\u001b[0;34m:\u001b[0m\u001b[0;34m\u001b[0m\u001b[0;34m\u001b[0m\u001b[0m\n\u001b[1;32m     51\u001b[0m                     \u001b[0mprint\u001b[0m\u001b[0;34m(\u001b[0m\u001b[0mgame\u001b[0m\u001b[0;34m.\u001b[0m\u001b[0mmov\u001b[0m\u001b[0;34m,\u001b[0m\u001b[0mgame\u001b[0m\u001b[0;34m.\u001b[0m\u001b[0mwhite_player\u001b[0m\u001b[0;34m.\u001b[0m\u001b[0mname\u001b[0m\u001b[0;34m,\u001b[0m\u001b[0mgame\u001b[0m\u001b[0;34m.\u001b[0m\u001b[0mblack_player\u001b[0m\u001b[0;34m.\u001b[0m\u001b[0mname\u001b[0m\u001b[0;34m)\u001b[0m\u001b[0;34m\u001b[0m\u001b[0;34m\u001b[0m\u001b[0m\n\u001b[0;32m---> 52\u001b[0;31m             \u001b[0;32mraise\u001b[0m \u001b[0mAttributeError\u001b[0m\u001b[0;34m(\u001b[0m\u001b[0;34m\"bad adjusted gamma\"\u001b[0m\u001b[0;34m)\u001b[0m\u001b[0;34m\u001b[0m\u001b[0;34m\u001b[0m\u001b[0m\n\u001b[0m\u001b[1;32m     53\u001b[0m         \u001b[0;32mreturn\u001b[0m \u001b[0mrval\u001b[0m\u001b[0;34m\u001b[0m\u001b[0;34m\u001b[0m\u001b[0m\n\u001b[1;32m     54\u001b[0m \u001b[0;34m\u001b[0m\u001b[0m\n",
      "\u001b[0;31mAttributeError\u001b[0m: bad adjusted gamma"
     ]
    }
   ],
   "source": [
    "start = time.perf_counter()\n",
    "w2_list = []\n",
    "per_corr_list = []\n",
    "per_corr_unc_list = []\n",
    "abe_list = []\n",
    "abe_unc_list = []\n",
    "mov_list_list = []\n",
    "pred_mov_list_list = []\n",
    "log_min, log_max = 3, 5\n",
    "log_space = np.logspace(log_min, log_max,10)\n",
    "lin_space = np.linspace(log_min, log_max,10)\n",
    "\n",
    "for w2,w2_power in zip(log_space,lin_space):\n",
    "    print(\"w2 value: {}, w2 power: {}\".format(w2, w2_power))\n",
    "    predictions = benchmark_w2(games_df,w2,time_offset=800,max_events=850)\n",
    "    print(len(predictions))\n",
    "    (correct, correct_err),(abe,abe_err) = score_predictions(predictions)\n",
    "\n",
    "    w2_list.append(w2)\n",
    "    per_corr_list.append(correct)\n",
    "    per_corr_unc_list.append(correct_err)\n",
    "    abe_list.append(abe)\n",
    "    abe_unc_list.append(abe_err)\n",
    "    mid_time = time.perf_counter()\n",
    "    print(\"{:.2f}% corr, abe: {:.2f}\".format(correct*100,abe))\n",
    "    print(\"{:.2f} seconds elapsed\".format(mid_time-start))\n",
    "end = time.perf_counter()\n",
    "end-start"
   ]
  },
  {
   "cell_type": "code",
   "execution_count": 298,
   "metadata": {},
   "outputs": [
    {
     "data": {
      "text/plain": [
       "((0.6666666666666666, 2.020689020018225e-06),\n",
       " (15.102484472049689, 4.935309012306303e-05))"
      ]
     },
     "execution_count": 298,
     "metadata": {},
     "output_type": "execute_result"
    }
   ],
   "source": [
    "(correct, correct_err),(abe,abe_err)"
   ]
  },
  {
   "cell_type": "code",
   "execution_count": 299,
   "metadata": {},
   "outputs": [
    {
     "data": {
      "image/png": "[encoded data removed]",
      "text/plain": [
       "<Figure size 432x288 with 1 Axes>"
      ]
     },
     "metadata": {
      "needs_background": "light"
     },
     "output_type": "display_data"
    }
   ],
   "source": [
    "plt.errorbar(w2_list,abe_list,yerr=abe_unc_list)\n",
    "plt.ylabel(\"absolute error\")\n",
    "plt.xlabel(\"w2\")\n",
    "plt.savefig(\"mov_abe_v_w2_{}_to_{}.png\".format(log_min, log_max))"
   ]
  },
  {
   "cell_type": "code",
   "execution_count": 300,
   "metadata": {},
   "outputs": [
    {
     "data": {
      "image/png": "[encoded data removed]",
      "text/plain": [
       "<Figure size 432x288 with 1 Axes>"
      ]
     },
     "metadata": {
      "needs_background": "light"
     },
     "output_type": "display_data"
    }
   ],
   "source": [
    "plt.errorbar(w2_list,per_corr_list,yerr=per_corr_unc_list)\n",
    "plt.ylabel(\"% correct\")\n",
    "plt.xlabel(\"w2\")\n",
    "plt.savefig(\"mov_percent_corr_v_w2_{}_to_{}.png\".format(log_min, log_max))"
   ]
  },
  {
   "cell_type": "code",
   "execution_count": 76,
   "metadata": {},
   "outputs": [],
   "source": [
    "def linear_func(x,m,b):\n",
    "    return m * x + b"
   ]
  },
  {
   "cell_type": "code",
   "execution_count": 77,
   "metadata": {},
   "outputs": [
    {
     "data": {
      "text/plain": [
       "(array([1.13675681, 1.49557498]),\n",
       " array([[ 0.00360343, -0.01815795],\n",
       "        [-0.01815795,  0.48608336]]))"
      ]
     },
     "execution_count": 77,
     "metadata": {},
     "output_type": "execute_result"
    }
   ],
   "source": [
    "x,y = pred_mov_list_list[5],mov_list_list[5]\n",
    "popt,pcov = curve_fit(linear_func,x,y)\n",
    "popt, pcov"
   ]
  },
  {
   "cell_type": "code",
   "execution_count": 78,
   "metadata": {},
   "outputs": [
    {
     "data": {
      "text/plain": [
       "[<matplotlib.lines.Line2D at 0x7f6e1b3a0a90>]"
      ]
     },
     "execution_count": 78,
     "metadata": {},
     "output_type": "execute_result"
    },
    {
     "data": {
      "image/png": "[encoded data removed]",
      "text/plain": [
       "<Figure size 432x288 with 1 Axes>"
      ]
     },
     "metadata": {
      "needs_background": "light"
     },
     "output_type": "display_data"
    }
   ],
   "source": [
    "x_space = np.linspace(np.min(x), np.max(x),100)\n",
    "y_pred = linear_func(x_space,*popt)\n",
    "plt.scatter(x,y)\n",
    "plt.plot(x_space,y_pred)"
   ]
  },
  {
   "cell_type": "code",
   "execution_count": 67,
   "metadata": {},
   "outputs": [
    {
     "data": {
      "text/plain": [
       "[<matplotlib.lines.Line2D at 0x7f6e2643a9a0>]"
      ]
     },
     "execution_count": 67,
     "metadata": {},
     "output_type": "execute_result"
    },
    {
     "data": {
      "image/png": "[encoded data removed]",
      "text/plain": [
       "<Figure size 432x288 with 1 Axes>"
      ]
     },
     "metadata": {
      "needs_background": "light"
     },
     "output_type": "display_data"
    }
   ],
   "source": [
    "abes = []\n",
    "abes_unc = []\n",
    "for x,y, exp in zip(pred_mov_list_list,mov_list_list,lin_space):\n",
    "    popt,pcov = curve_fit(linear_func,x,y)\n",
    "    popt, pcov\n",
    "    y_scaled = linear_func(x,*popt)\n",
    "    abe,abe_unc = (abeError(y_scaled-y))\n",
    "    abes.append(abe)\n",
    "    abes_unc.append(abe_unc)\n",
    "    \n",
    "space = lin_space\n",
    "plt.errorbar(space,abes,yerr=abes_unc)\n",
    "\n",
    "def quadratic_func(x,a,b,c):\n",
    "    return a * x **2 + b * x + c\n",
    "\n",
    "popt,pconv = curve_fit(quadratic_func,space,abes)\n",
    "\n",
    "y_pred = quadratic_func(space,*popt)\n",
    "plt.plot(space,y_pred)"
   ]
  },
  {
   "cell_type": "code",
   "execution_count": 69,
   "metadata": {},
   "outputs": [
    {
     "data": {
      "text/plain": [
       "array([ 7.16020905e-07, -1.11718554e-03,  1.53323731e+01])"
      ]
     },
     "execution_count": 69,
     "metadata": {},
     "output_type": "execute_result"
    },
    {
     "data": {
      "image/png": "[encoded data removed]",
      "text/plain": [
       "<Figure size 432x288 with 1 Axes>"
      ]
     },
     "metadata": {
      "needs_background": "light"
     },
     "output_type": "display_data"
    }
   ],
   "source": [
    "space = log_space\n",
    "plt.errorbar(space,abes,yerr=abes_unc)\n",
    "\n",
    "def quadratic_func(x,a,b,c):\n",
    "    return a * x **2 + b * x + c\n",
    "\n",
    "popt,pconv = curve_fit(quadratic_func,space,abes)\n",
    "\n",
    "y_pred = quadratic_func(space,*popt)\n",
    "plt.plot(space,y_pred)\n",
    "\n",
    "popt"
   ]
  },
  {
   "cell_type": "code",
   "execution_count": null,
   "metadata": {},
   "outputs": [],
   "source": [
    "max_events = [100,300,500]\n",
    "total_time = [13.94,174,326.60867288500594]\n",
    "plt.plot(max_events,total_time)"
   ]
  },
  {
   "cell_type": "code",
   "execution_count": 78,
   "metadata": {},
   "outputs": [
    {
     "data": {
      "text/plain": [
       "(8905, 0.4866386141319198)"
      ]
     },
     "execution_count": 78,
     "metadata": {},
     "output_type": "execute_result"
    }
   ],
   "source": [
    "start_time=0\n",
    "for i,row in games_df_test.iterrows():\n",
    "        game_time = datetime_from_cfbd(row.start_date)\n",
    "        if start_time == 0: start_time = game_time\n",
    "        day_delta = (game_time-start_time).days\n",
    "day_delta, day_delta/games_df_test.shape[0]"
   ]
  },
  {
   "cell_type": "code",
   "execution_count": 79,
   "metadata": {},
   "outputs": [
    {
     "data": {
      "text/plain": [
       "486.6386141319198"
      ]
     },
     "execution_count": 79,
     "metadata": {},
     "output_type": "execute_result"
    }
   ],
   "source": [
    ".4866386141319198*1000"
   ]
  },
  {
   "cell_type": "code",
   "execution_count": 38,
   "metadata": {},
   "outputs": [
    {
     "data": {
      "text/plain": [
       "array([ 398.10717055,  452.43433466,  514.17518277,  584.34141337,\n",
       "        664.08278506,  754.7059567 ,  857.69589859,  974.74022556,\n",
       "       1107.75685051, 1258.92541179])"
      ]
     },
     "execution_count": 38,
     "metadata": {},
     "output_type": "execute_result"
    }
   ],
   "source": [
    "np.logspace(2.6, 3.1,10)"
   ]
  },
  {
   "cell_type": "code",
   "execution_count": null,
   "metadata": {},
   "outputs": [],
   "source": []
  }
 ],
 "metadata": {
  "kernelspec": {
   "display_name": "myCfbVenv",
   "language": "python",
   "name": "mycfbvenv"
  },
  "language_info": {
   "codemirror_mode": {
    "name": "ipython",
    "version": 3
   },
   "file_extension": ".py",
   "mimetype": "text/x-python",
   "name": "python",
   "nbconvert_exporter": "python",
   "pygments_lexer": "ipython3",
   "version": "3.8.5"
  }
 },
 "nbformat": 4,
 "nbformat_minor": 4
}
