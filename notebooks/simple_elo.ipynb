{
 "cells": [
  {
   "cell_type": "code",
   "execution_count": null,
   "id": "75d598aa-44a8-4f05-9170-9e18c21c4dd9",
   "metadata": {},
   "outputs": [],
   "source": [
    "import pandas as pd\n",
    "from pandas import DataFrame\n",
    "import numpy as np\n",
    "import matplotlib.pyplot as plt\n",
    "import sys\n",
    "sys.path.insert(1, '..')\n",
    "from cfb_api_key import api_key\n",
    "from cfb_tools.CfbDataManager import CfbDataManager\n",
    "from math import e"
   ]
  },
  {
   "cell_type": "code",
   "execution_count": null,
   "id": "b5e60d54-0514-4fd3-8abf-521382aac228",
   "metadata": {},
   "outputs": [],
   "source": [
    "csv_name = '../data/cfbd/games.csv'\n",
    "df = CfbDataManager.from_file(csv_name)"
   ]
  },
  {
   "cell_type": "code",
   "execution_count": null,
   "id": "9856c7ee-ab2f-4b99-a262-438af440e0fe",
   "metadata": {},
   "outputs": [],
   "source": [
    "from scipy.stats import  norm\n",
    "\n",
    "def logistic_cdf(x, power=2*e, scale=1., loc=0.):\n",
    "    return 1./(1.+power**(-(x-loc)/scale))\n",
    "def logistic_pdf(x, power=2*e, scale=1., loc=0.):\n",
    "    exp_term = power**(-(x-loc)/scale)\n",
    "    square_logistic = logistic_cdf(x, power=power, scale=scale, loc=loc)**2\n",
    "    return exp_term*np.log(power)/scale*square_logistic\n",
    "\n",
    "# 5.0868 is a best fit to a normal distribution pdf\n",
    "# 5.479 for cdf\n",
    "class logistic():\n",
    "    def __init__(self,power=5.0868, loc=0., scale=1.):\n",
    "        self.power = power\n",
    "        self.loc = loc\n",
    "        self.scale = scale\n",
    "    def params(self):\n",
    "        return {'power':self.power,'loc':self.loc,'scale':self.scale}\n",
    "    def cdf(self, x, **kwargs):\n",
    "        kwargs = {**self.params(), **kwargs}\n",
    "        return logistic_cdf(x, **kwargs)\n",
    "    def pdf(self, x, **kwargs):\n",
    "        kwargs = {**self.params(), **kwargs}\n",
    "        return logistic_pdf(x, **kwargs)    \n",
    "log = logistic()"
   ]
  },
  {
   "cell_type": "code",
   "execution_count": null,
   "id": "ff44b24b-305c-40c3-adc3-b35279367d66",
   "metadata": {},
   "outputs": [],
   "source": [
    "x = np.linspace(-10,10,1000)\n",
    "y_norm = norm.cdf(x,loc=0,scale=2.5)\n",
    "y_logistic = log.cdf(x,loc=0,scale=2.5)\n",
    "\n",
    "plt.plot(x,y_norm,label='normal cdf')\n",
    "plt.plot(x,y_logistic,label='logistic cdf')\n",
    "plt.legend()"
   ]
  },
  {
   "cell_type": "code",
   "execution_count": null,
   "id": "2b734a63-5cf9-4edd-868c-5d9f56003f4c",
   "metadata": {},
   "outputs": [],
   "source": [
    "x = np.linspace(-10,10,1000)\n",
    "y_norm = norm.pdf(x,loc=0,scale=2.5)\n",
    "y_logistic = log.pdf(x,loc=0,scale=2.5)\n",
    "\n",
    "plt.plot(x,y_norm,label='normal pdf')\n",
    "plt.plot(x,y_logistic,label='logistic pdf')\n",
    "plt.legend()"
   ]
  },
  {
   "cell_type": "code",
   "execution_count": null,
   "id": "3b68db25-3117-46c9-8852-598b4321dc49",
   "metadata": {},
   "outputs": [],
   "source": [
    "team_list = {team:0 for team in df.view(season=2020).teams()}\n",
    "games = df.view(season=2020).teams_and_scores()\n",
    "win_prob = lambda team1,team2: logistic_cdf(team1-team2, scale=17)"
   ]
  },
  {
   "cell_type": "code",
   "execution_count": null,
   "id": "951394d9-fb9f-4aa2-8a94-a4c3c5bdd5c1",
   "metadata": {},
   "outputs": [],
   "source": [
    "verbose = False\n",
    "kFactor = 17.\n",
    "count = 0\n",
    "for i,row in games.iterrows():\n",
    "    if count%1000==0: print(\"{}/{}\".format(count,games.shape[0]))\n",
    "    count+=1\n",
    "    \n",
    "    if verbose: print(row)\n",
    "    away_elo = team_list[row.away_team]\n",
    "    home_elo = team_list[row.home_team]\n",
    "    pred_win_prob = win_prob(home_elo,away_elo)\n",
    "    home_wins = row.home_points > row.away_points\n",
    "    update_factor = kFactor*(home_wins-pred_win_prob)\n",
    "    team_list[row.away_team] += -update_factor\n",
    "    team_list[row.home_team] += update_factor\n",
    "    if verbose:\n",
    "        print(\"home win probability: {} home won? {} update factor: {}\".format(pred_win_prob,home_wins,update_factor))\n",
    "        print(\"new home elo: {} new away elo: {}\".format(team_list[row.home_team],team_list[row.away_team]))"
   ]
  },
  {
   "cell_type": "code",
   "execution_count": null,
   "id": "9e206517-8b7e-4b2c-9861-8fd21acd3d4f",
   "metadata": {},
   "outputs": [],
   "source": [
    "sorted_teams = sorted(team_list.keys(),key=lambda x: -team_list[x])"
   ]
  },
  {
   "cell_type": "code",
   "execution_count": null,
   "id": "06274bba-5540-41de-92bd-96d719bd593b",
   "metadata": {},
   "outputs": [],
   "source": [
    "for i, team in enumerate(sorted_teams):\n",
    "    print(\"#{} {}: {:.2f}\".format(i+1, team,team_list[team]))\n",
    "    if i+1 == 25: break "
   ]
  },
  {
   "cell_type": "code",
   "execution_count": null,
   "id": "efee6d7e-9209-42ad-a1f4-4eeed9d162d8",
   "metadata": {},
   "outputs": [],
   "source": [
    "plt.hist(team_list.values(),bins=np.linspace(-50,50,20))\n",
    "plt.xlabel('final power ratings')\n",
    "plt.title('2020 elo histogram')"
   ]
  },
  {
   "cell_type": "code",
   "execution_count": null,
   "id": "1220e851-268e-4599-b4e1-b14a43781788",
   "metadata": {},
   "outputs": [],
   "source": [
    "team_list['Alabama']-team_list['LSU']"
   ]
  },
  {
   "cell_type": "code",
   "execution_count": null,
   "id": "591deb37-358b-4519-914a-78ec74b7f488",
   "metadata": {},
   "outputs": [],
   "source": []
  }
 ],
 "metadata": {
  "kernelspec": {
   "display_name": "Python 3",
   "language": "python",
   "name": "python3"
  },
  "language_info": {
   "codemirror_mode": {
    "name": "ipython",
    "version": 3
   },
   "file_extension": ".py",
   "mimetype": "text/x-python",
   "name": "python",
   "nbconvert_exporter": "python",
   "pygments_lexer": "ipython3",
   "version": "3.8.5"
  }
 },
 "nbformat": 4,
 "nbformat_minor": 5
}
