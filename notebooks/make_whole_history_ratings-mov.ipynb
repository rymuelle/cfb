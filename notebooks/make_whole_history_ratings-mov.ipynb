{
 "cells": [
  {
   "cell_type": "code",
   "execution_count": 1,
   "metadata": {},
   "outputs": [],
   "source": [
    "import sys\n",
    "import os\n",
    "sys.path.append(\"../src/whole_history_rating\")\n",
    "from whr import whole_history_rating\n",
    "from whr import utils\n",
    "from datetime import datetime\n",
    "import datetime as dt\n",
    "import pandas as pd\n",
    "import numpy as np\n",
    "import time\n",
    "import matplotlib.pyplot as plt\n",
    "import matplotlib.dates as mdates"
   ]
  },
  {
   "cell_type": "markdown",
   "metadata": {},
   "source": [
    "This uses the default main branch of whr. e.g. it will use \"black/white\" to refer to the winner. \"White\" is second. "
   ]
  },
  {
   "cell_type": "code",
   "execution_count": 2,
   "metadata": {},
   "outputs": [],
   "source": [
    "data_path = '../data/cfbd/games_1869_to_2020.csv'"
   ]
  },
  {
   "cell_type": "code",
   "execution_count": 3,
   "metadata": {},
   "outputs": [
    {
     "name": "stderr",
     "output_type": "stream",
     "text": [
      "/home/ryan/Develop/cfb/venv/lib/python3.8/site-packages/IPython/core/interactiveshell.py:3146: DtypeWarning: Columns (6,11) have mixed types.Specify dtype option on import or set low_memory=False.\n",
      "  has_raised = await self.run_ast_nodes(code_ast.body, cell_name,\n"
     ]
    },
    {
     "data": {
      "text/plain": [
       "(8332, 25)"
      ]
     },
     "execution_count": 3,
     "metadata": {},
     "output_type": "execute_result"
    }
   ],
   "source": [
    "games_df = pd.read_csv(data_path)\n",
    "games_df = games_df[games_df.season>2010]\n",
    "games_df.shape"
   ]
  },
  {
   "cell_type": "markdown",
   "metadata": {},
   "source": [
    "win_prob with 2.5 home field =  1/(1+10^(2.5/13))\n",
    "win_prob with 400 elo scale =  1/(1+10^(x/400))\n",
    "\n",
    "elo handicap for 2.5 points = 2.5/13 * 400 = 77"
   ]
  },
  {
   "cell_type": "code",
   "execution_count": 4,
   "metadata": {},
   "outputs": [],
   "source": [
    "datetime_from_cfbd = lambda x: datetime.strptime(x,\"%Y-%m-%dT%H:%M:%S.%fZ\")"
   ]
  },
  {
   "cell_type": "code",
   "execution_count": 11,
   "metadata": {},
   "outputs": [],
   "source": [
    "scale = 16\n",
    "w2 = 100\n",
    "whr = whole_history_rating.Base({'scale': scale,'w2':w2, 'debug':False})"
   ]
  },
  {
   "cell_type": "code",
   "execution_count": 12,
   "metadata": {},
   "outputs": [],
   "source": [
    "start_time = 0\n",
    "home_team_handicap = 2.5/13*scale\n",
    "verbose = False\n",
    "for i,row in games_df.iterrows():\n",
    "    game_time = datetime_from_cfbd(row.start_date)\n",
    "    if start_time == 0: start_time = game_time\n",
    "    days = (game_time-start_time).days\n",
    "    home_team = row.home_team\n",
    "    away_team = row.away_team\n",
    "    handicap = -(1-row.neutral_site)*home_team_handicap\n",
    "    mov = row.home_points-row.away_points\n",
    "        \n",
    "    if verbose: print(\"away team: {}, home team: {}\".format(away_team,home_team))\n",
    "    if verbose: print(\"winner: {} (W is home), days: {} handicap: {}\".format(winner,days,handicap))\n",
    "    whr.create_game(away_team,home_team,row.away_points,row.home_points, days, handicap)\n",
    "    #if len(whr.games) > 100: break"
   ]
  },
  {
   "cell_type": "code",
   "execution_count": 13,
   "metadata": {},
   "outputs": [
    {
     "data": {
      "text/plain": [
       "8332"
      ]
     },
     "execution_count": 13,
     "metadata": {},
     "output_type": "execute_result"
    }
   ],
   "source": [
    "len(whr.games)"
   ]
  },
  {
   "cell_type": "code",
   "execution_count": 14,
   "metadata": {},
   "outputs": [],
   "source": [
    "whr.iterate(10)"
   ]
  },
  {
   "cell_type": "markdown",
   "metadata": {},
   "source": [
    "timing:\n",
    "\n",
    "100 games: 0.21831806499903905\n",
    "\n",
    "1000:      4.505260759000521\n",
    "\n",
    "8332:      15.015844893998292\n",
    "\n",
    "23179:     58.9916944889992\n",
    "\n",
    "74781:     241.91250731699984\n",
    "\n",
    "77239:     "
   ]
  },
  {
   "cell_type": "code",
   "execution_count": 15,
   "metadata": {
    "scrolled": true
   },
   "outputs": [
    {
     "data": {
      "text/plain": [
       "18.138628718999826"
      ]
     },
     "execution_count": 15,
     "metadata": {},
     "output_type": "execute_result"
    }
   ],
   "source": [
    "start_perf_timer = time.perf_counter()\n",
    "whr.auto_iterate(time_limit = 10, precision = 10E-3*scale/400)\n",
    "end_perf_timer = time.perf_counter()\n",
    "end_perf_timer-start_perf_timer"
   ]
  },
  {
   "cell_type": "code",
   "execution_count": 16,
   "metadata": {},
   "outputs": [],
   "source": [
    "def get_player_history(player_name,start_time=0, seasons=[]):\n",
    "    ratings = whr.ratings_for_player(player_name)\n",
    "    if start_time:\n",
    "        ratings = [[dt.timedelta(days=d)+start_time,elo,unc] for d,elo,unc in ratings]\n",
    "    return ratings"
   ]
  },
  {
   "cell_type": "code",
   "execution_count": 17,
   "metadata": {},
   "outputs": [],
   "source": [
    "players = [\n",
    "           'Texas A&M',\n",
    "           'Ohio State',\n",
    "           'Alabama',\n",
    "           'Clemson',\n",
    "           #'Minnesota',\n",
    "           'LSU',\n",
    "           #'Vanderbilt',\n",
    "           #'Florida State',\n",
    "           #'Harvard',\n",
    "           #'Yale',\n",
    "           #'Princeton'\n",
    "           #'UAB',\n",
    "           #'North Dakota State',\n",
    "          ]"
   ]
  },
  {
   "cell_type": "code",
   "execution_count": null,
   "metadata": {
    "scrolled": false
   },
   "outputs": [],
   "source": [
    "fig = plt.figure(figsize=[20,10])\n",
    "for player in players:\n",
    "    player_details = get_player_history(player,start_time=start_time)\n",
    "    dates,ratings,uncertainties = list(zip(*player_details))\n",
    "    ratings,uncertainties = np.asarray(ratings),np.asarray(uncertainties)\n",
    "    plt.plot(dates,ratings,label=player)\n",
    "    #plt.scatter(dates,ratings)\n",
    "    up,down = ratings+uncertainties, ratings-uncertainties\n",
    "    plt.fill_between(dates,up,down, alpha=.25)\n",
    "    \n",
    "    \n",
    "years = mdates.YearLocator()\n",
    "years_fmt = mdates.DateFormatter('%Y')\n",
    "\n",
    "ax = fig.axes[0]\n",
    "ax.xaxis.set_major_locator(years)\n",
    "ax.xaxis.set_major_formatter(years_fmt)\n",
    "ax.grid(True)\n",
    "#fig.autofmt_xdate()\n",
    "\n",
    "#plt.ylim((-40,80))\n",
    "plt.xticks(rotation=90)\n",
    "plt.legend()\n",
    "plt.xlabel('Year')\n",
    "plt.savefig('scale_{}_w_{}.pdf'.format(scale,w2))\n"
   ]
  },
  {
   "cell_type": "code",
   "execution_count": 82,
   "metadata": {
    "scrolled": true
   },
   "outputs": [
    {
     "name": "stdout",
     "output_type": "stream",
     "text": [
      "Lehigh => -219.4726118213965\n",
      "Northwestern Oklahoma State => -213.06345483060298\n",
      "Texas A&M-Commerce => -213.0281198877642\n",
      "Drake => -212.37613100192155\n",
      "Robert Morris => -211.95849856401458\n",
      "San Diego => -211.3887547810383\n",
      "VMI => -102.22255771489056\n",
      "Morgan State => -98.87266176155603\n",
      "Incarnate Word => -96.29544999605976\n",
      "Houston Baptist => -95.37179218253831\n",
      "Prairie View => -95.04119837803772\n",
      "Cal Poly => -94.45266447080249\n",
      "Sacramento State => -94.15795645685999\n",
      "Abilene Christian => -93.72718960640603\n",
      "Norfolk State => -92.32697209276283\n",
      "Presbyterian College => -91.85443229301222\n",
      "Southeastern Louisiana => -90.69759542091988\n",
      "Howard => -88.42889838351614\n",
      "Duquesne => -87.72349108531054\n",
      "Rhode Island => -87.70665717313824\n",
      "Wagner => -87.23672615107462\n",
      "Texas Southern => -86.9828992475567\n",
      "Central Connecticut => -85.70607179419972\n",
      "Monmouth => -85.62447415368\n",
      "Bucknell => -85.59419983654266\n",
      "Jackson State => -85.15084103333295\n",
      "Northern Colorado => -84.63252286015708\n",
      "Southeast Missouri State => -84.14456020895064\n",
      "Stephen F. Austin => -83.9365690282119\n",
      "South Carolina State => -83.8230024326831\n",
      "Northwestern State => -82.98399001958774\n",
      "Fordham => -82.28661677281598\n",
      "Alcorn State => -82.08431274924445\n",
      "Colgate => -82.06506896830896\n",
      "East Tennessee State => -81.84572426730053\n",
      "Kennesaw State => -81.63106144978747\n",
      "Alabama A&M => -81.11973013468722\n",
      "Austin Peay => -80.99158175242464\n",
      "Lamar => -80.74125712046555\n",
      "Mississippi Valley State => -80.62648886788669\n",
      "Southern => -80.45586432577936\n",
      "Alabama State => -79.88753709861975\n",
      "Holy Cross => -79.60026387470592\n",
      "Gardner-Webb => -79.50120460596281\n",
      "Elon => -78.22235367662776\n",
      "North Alabama => -78.07997837164967\n",
      "Hampton => -77.94294124529823\n",
      "Arkansas-Pine Bluff => -77.61279276421624\n",
      "Campbell => -77.48372530055705\n",
      "Delaware State => -77.47243084316186\n",
      "Tennessee Tech => -76.4045926706235\n",
      "Wofford => -75.88349199954392\n",
      "Idaho State => -75.02183193153694\n",
      "Grambling => -74.74631143964673\n",
      "North Carolina Central => -74.61754115527451\n",
      "William & Mary => -74.51963138967987\n",
      "Western Carolina => -74.27228342802054\n",
      "Savannah State => -74.10780842628027\n",
      "The Citadel => -73.92481230713354\n",
      "Montana => -73.72360163502029\n",
      "Charleston Southern => -73.55750505089324\n",
      "Villanova => -69.91001836754896\n",
      "Lafayette => -69.80630070106778\n",
      "Murray State => -68.32284664794942\n",
      "Montana State => -67.63703221766455\n",
      "Weber State => -67.18020833739939\n",
      "Florida A&M => -63.78198915554861\n",
      "Mercer => -60.09973484716067\n",
      "Delaware => -59.23245855344998\n",
      "Missouri State => -57.950265417951215\n",
      "Nicholls => -52.62779591504993\n",
      "Maine => -51.68967175696774\n",
      "Old Dominion => -47.869615115906925\n",
      "Eastern Kentucky => -45.592720813180186\n",
      "UMass => -44.5129800061617\n",
      "Sam Houston State => -44.39698012189718\n",
      "Louisiana Monroe => -44.07474868997755\n",
      "Southern Utah => -43.309239515342824\n",
      "UT Martin => -43.292444243266836\n",
      "Bowling Green => -40.18765530737314\n",
      "Stony Brook => -38.52191506230127\n",
      "Chattanooga => -37.95509247657063\n",
      "UTEP => -37.62646793394002\n",
      "Portland State => -37.5742473325647\n",
      "Florida International => -37.476052198535506\n",
      "Albany => -35.51733683595375\n",
      "Connecticut => -35.467503939225224\n",
      "New Mexico State => -35.35312959696696\n",
      "Akron => -34.38356001982581\n",
      "Northern Illinois => -33.569002458577984\n",
      "McNeese => -32.64421529624812\n",
      "Bethune-Cookman => -32.346315403226775\n",
      "UNLV => -31.9753864084563\n",
      "Indiana State => -31.139604898868626\n",
      "New Hampshire => -30.760457437257642\n",
      "Furman => -29.529933631278055\n",
      "Samford => -29.3335825246239\n",
      "Vanderbilt => -29.15246842527141\n",
      "Eastern Illinois => -28.617720855869994\n",
      "Middle Tennessee => -28.449126932152502\n",
      "Western Illinois => -28.32419795319051\n",
      "Texas State => -28.08114229810286\n",
      "South Florida => -27.447393790255745\n",
      "Eastern Washington => -27.397923712652034\n",
      "Southern Illinois => -26.092232708348163\n",
      "Illinois State => -25.568940441712176\n",
      "North Dakota => -24.20161396841636\n",
      "North Texas => -23.16218404373337\n",
      "Idaho => -23.018619952452564\n",
      "Tennessee State => -22.64668533433223\n",
      "Northern Arizona => -22.47155650447052\n",
      "Central Arkansas => -21.970608549812944\n",
      "Towson => -21.758318945494345\n",
      "Charlotte => -21.628989102431724\n",
      "Jacksonville State => -20.759433504701924\n",
      "Temple => -20.732760985175435\n",
      "New Mexico => -19.897184261670155\n",
      "Utah State => -19.400969137724935\n",
      "UC Davis => -19.00023957085474\n",
      "Arkansas State => -18.800731309586766\n",
      "Southern Mississippi => -18.630487084992136\n",
      "South Alabama => -16.7239179108591\n",
      "Syracuse => -15.880059084337109\n",
      "Arizona => -15.712011891990594\n",
      "Fresno State => -15.412742358640925\n",
      "UT San Antonio => -14.639997091508782\n",
      "Florida Atlantic => -14.309668225542461\n",
      "Youngstown State => -14.260828143749258\n",
      "Duke => -14.180533309910873\n",
      "Eastern Michigan => -14.054325456281488\n",
      "South Dakota => -13.55933876268683\n",
      "Colorado State => -13.158850437733584\n",
      "Richmond => -12.847786342898459\n",
      "Western Kentucky => -12.700092357347481\n",
      "Kansas => -12.384661823257542\n",
      "Rice => -12.149650925551967\n",
      "Navy => -11.846067384367489\n",
      "South Dakota State => -11.5153117341042\n",
      "Louisiana Tech => -11.05211483552913\n",
      "South Carolina => -9.796111840685795\n",
      "Oregon State => -9.523983981196492\n",
      "James Madison => -9.218669571118967\n",
      "Central Michigan => -9.099547277936335\n",
      "Western Michigan => -9.082461143397484\n",
      "Florida State => -8.48160909921834\n",
      "Wyoming => -8.469829419672884\n",
      "California => -8.233167600939607\n",
      "Ohio => -8.202606639410014\n",
      "Marshall => -7.819090570247879\n",
      "East Carolina => -7.657269849420461\n",
      "Georgia Tech => -7.441600011129104\n",
      "North Carolina A&T => -7.164612114390938\n",
      "Northern Iowa => -6.370772090445742\n",
      "Houston => -6.001125720984654\n",
      "Troy => -5.98986250211636\n",
      "Purdue => -5.967131225820232\n",
      "Toledo => -5.387674383847691\n",
      "Kent State => -3.2372729589565123\n",
      "Georgia Southern => -2.6114488327578025\n",
      "Louisville => -1.89764941040562\n",
      "SMU => -1.6146676418108936\n",
      "Hawai'i => -1.0712790218490784\n",
      "Air Force => -0.91801477448168\n",
      "Army => -0.39260263346274143\n",
      "Georgia State => -0.3483865522019357\n",
      "Rutgers => 0.18780927364554037\n",
      "San Diego State => 0.6021476903780419\n",
      "Tulane => 0.6111203254269146\n",
      "Wake Forest => 0.7604504825838437\n",
      "Boston College => 1.9751319854289324\n",
      "Virginia => 2.7811957149868207\n",
      "Memphis => 3.6757082848136986\n",
      "Arizona State => 3.718121011878963\n",
      "Illinois => 3.775898035860842\n",
      "Washington State => 3.865457245131517\n",
      "Baylor => 4.167888724508554\n",
      "Mississippi State => 4.634367216129577\n",
      "Missouri => 4.679752665965583\n",
      "Tennessee => 4.771706379037781\n",
      "UAB => 5.584038489846167\n",
      "Nevada => 6.557306668508646\n",
      "Miami (OH) => 6.723532835048006\n",
      "NC State => 6.790230533513987\n",
      "Ole Miss => 7.004455070650265\n",
      "Nebraska => 7.102064680415356\n",
      "UCLA => 7.611903300305021\n",
      "UCF => 8.223020027131321\n",
      "Virginia Tech => 8.236023988082678\n",
      "Texas Tech => 8.542731953638466\n",
      "Boise State => 9.292000862816023\n",
      "Arkansas => 9.349001580364328\n",
      "Appalachian State => 9.499596836961471\n",
      "Colorado => 9.662005754035691\n",
      "Buffalo => 9.901776328939292\n",
      "Michigan State => 10.095825072067724\n",
      "Tulsa => 11.732607711721055\n",
      "Pittsburgh => 12.47861972703695\n",
      "Washington => 12.565018331713993\n",
      "Kentucky => 12.747236994131768\n",
      "Kansas State => 13.221816788496023\n",
      "Miami => 13.344416811890952\n",
      "San José State => 14.008121029597378\n",
      "Michigan => 14.27801653341446\n",
      "Stanford => 14.391634424440298\n",
      "Coastal Carolina => 15.886481496347802\n",
      "Minnesota => 15.98280491262312\n",
      "Liberty => 16.77386947964137\n",
      "Maryland => 17.141987166922597\n",
      "West Virginia => 17.20639202905664\n",
      "Utah => 17.218807318028254\n",
      "Ball State => 17.645854833025357\n",
      "TCU => 17.79441036599486\n",
      "Penn State => 18.609185137173053\n",
      "BYU => 19.57195147783255\n",
      "Oklahoma State => 22.973327436103435\n",
      "North Carolina => 23.5839317182391\n",
      "Wisconsin => 24.286952749209917\n",
      "USC => 25.002270152869627\n",
      "Auburn => 25.553747998174984\n",
      "Cincinnati => 25.56354030300499\n",
      "Northwestern => 28.884439729184315\n",
      "Texas => 32.11459424551344\n",
      "Oregon => 32.31360420588862\n",
      "Indiana => 33.90504734895962\n",
      "LSU => 35.049009795100694\n",
      "Florida => 35.55814003502382\n",
      "Louisiana => 35.6808933502686\n",
      "Georgia => 37.313711582002874\n",
      "Iowa State => 38.00219994372772\n",
      "Notre Dame => 39.6479066623175\n",
      "Iowa => 40.092252233334456\n",
      "Clemson => 44.04133571916602\n",
      "Texas A&M => 46.71217080603987\n",
      "Oklahoma => 47.30315529397466\n",
      "Ohio State => 54.39743604448745\n",
      "Alabama => 67.49705090147091\n",
      "North Dakota State => 81.65741874787727\n",
      "Yale => 211.3265054003435\n"
     ]
    }
   ],
   "source": [
    "whr.print_ordered_ratings(current=True)"
   ]
  },
  {
   "cell_type": "code",
   "execution_count": null,
   "metadata": {},
   "outputs": [],
   "source": []
  }
 ],
 "metadata": {
  "kernelspec": {
   "display_name": "myCfbVenv",
   "language": "python",
   "name": "mycfbvenv"
  },
  "language_info": {
   "codemirror_mode": {
    "name": "ipython",
    "version": 3
   },
   "file_extension": ".py",
   "mimetype": "text/x-python",
   "name": "python",
   "nbconvert_exporter": "python",
   "pygments_lexer": "ipython3",
   "version": "3.8.5"
  }
 },
 "nbformat": 4,
 "nbformat_minor": 4
}
