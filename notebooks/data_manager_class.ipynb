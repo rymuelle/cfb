{
 "cells": [
  {
   "cell_type": "code",
   "execution_count": null,
   "id": "e5d6772f-1286-4c41-8964-eda0f532bb4b",
   "metadata": {},
   "outputs": [],
   "source": [
    "import pandas as pd\n",
    "from pandas import DataFrame\n",
    "import numpy as np\n",
    "import sys\n",
    "sys.path.insert(1, '..')\n",
    "from cfb_api_key import api_key"
   ]
  },
  {
   "cell_type": "code",
   "execution_count": null,
   "id": "54d7f616-312f-4d74-9de5-3bd592a27613",
   "metadata": {},
   "outputs": [],
   "source": [
    "csv_name = '../data/cfbd/games.csv'"
   ]
  },
  {
   "cell_type": "code",
   "execution_count": null,
   "id": "1407d32a-74ed-490f-91cd-24dbd6b2ff5b",
   "metadata": {},
   "outputs": [],
   "source": [
    "class CfbDataManager(DataFrame):\n",
    "    def __init__(self, df, *args, **kwargs):\n",
    "        super().__init__(*args, **kwargs)\n",
    "        for key in df:\n",
    "            if \"Unnamed\" in key: continue\n",
    "            self[key] = df[key]\n",
    "        if 'id' in self: self.set_index('id',inplace=True)\n",
    "    @classmethod\n",
    "    def from_file(cls,file_name,*args, **kwargs):\n",
    "        df = pd.read_csv(file_name)\n",
    "        return cls(df,*args, **kwargs)\n",
    "    def teams(self):\n",
    "        return pd.concat([self['home_team'],self['away_team']]).unique()\n",
    "    def view(self,**kwargs):\n",
    "        df = self\n",
    "        for key in kwargs:\n",
    "            if key == \"team\": \n",
    "                df = df[(df['home_team']==kwargs[key]) | (df['away_team']==kwargs[key])]   \n",
    "                continue\n",
    "            assert key in df, \"key {} not in dataframe\".format(key)\n",
    "            df = df[df[key]==kwargs[key]]\n",
    "        return self.__class__(df)\n",
    "    def occured_games(self):\n",
    "        return self.__class__(self[(self['home_points'] > 0) & (self['away_points'] > 0)])\n",
    "    def combine(self,df):\n",
    "        if 'id' in df: df = df.set_index(\"id\")\n",
    "        assert df.index.name == \"id\", \"index must be id\"\n",
    "        self = self[~self.index.isin(df.index)]\n",
    "        df3 = pd.concat([self,df])\n",
    "        return self.__class__(df3)\n",
    "    def teams_and_scores(self):\n",
    "        columns = ['away_team', 'home_team','away_points', 'home_points', 'neutral_site']\n",
    "        return self.__class__(self[columns])\n",
    "    def get_data(self,api_key,season,**kwargs):\n",
    "        import cfbd\n",
    "        from cfbd.rest import ApiException\n",
    "        # Configure API key authorization: ApiKeyAuth\n",
    "        configuration = cfbd.Configuration()\n",
    "        configuration.api_key['Authorization'] = api_key\n",
    "        configuration.api_key_prefix['Authorization'] = 'Bearer'\n",
    "        # create an instance of the API class\n",
    "        api_instance = cfbd.GamesApi(cfbd.ApiClient(configuration))\n",
    "        games = api_instance.get_games(season, season_type='regular', **kwargs)\n",
    "        games+=api_instance.get_games(season, season_type='postseason', **kwargs)\n",
    "        games = [game.to_dict() for game in games]\n",
    "        df = pd.DataFrame(games)\n",
    "        return self.combine(df)"
   ]
  },
  {
   "cell_type": "code",
   "execution_count": null,
   "id": "b88fa9b7-d0d1-4060-a7cd-1d387faa27df",
   "metadata": {},
   "outputs": [],
   "source": [
    "df = CfbDataManager.from_file('../data/cfbd/games.csv')"
   ]
  }
 ],
 "metadata": {
  "kernelspec": {
   "display_name": "Python 3",
   "language": "python",
   "name": "python3"
  },
  "language_info": {
   "codemirror_mode": {
    "name": "ipython",
    "version": 3
   },
   "file_extension": ".py",
   "mimetype": "text/x-python",
   "name": "python",
   "nbconvert_exporter": "python",
   "pygments_lexer": "ipython3",
   "version": "3.8.5"
  }
 },
 "nbformat": 4,
 "nbformat_minor": 5
}
